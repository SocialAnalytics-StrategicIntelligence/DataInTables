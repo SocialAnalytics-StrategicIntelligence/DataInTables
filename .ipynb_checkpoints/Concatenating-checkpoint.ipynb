{
 "cells": [
  {
   "cell_type": "markdown",
   "id": "d317c804",
   "metadata": {},
   "source": [
    "<img src=\"https://i.imgur.com/6U6q5jQ.png\"/>\n",
    "\n",
    "# Concatenating Data Frames in Python\n",
    "\n",
    "Concatenating or Appending is an operation at the data frame level. It is an easy operation when all the data frames have the **same** column names, and in the same position (vertical appending).\n",
    "\n",
    "Let me bring some data frames:"
   ]
  },
  {
   "cell_type": "code",
   "execution_count": null,
   "id": "2be3927e",
   "metadata": {},
   "outputs": [],
   "source": [
    "import pandas as pd # for data frames\n",
    "import glob # help you with path names\n",
    "import os   # for basic operating system functions\n",
    "\n",
    "all_file_names = glob.glob(os.path.join('FilesToConcatenate' , \"*P.csv\"))\n",
    "\n",
    "# this is only the file names (in a list)\n",
    "all_file_names"
   ]
  },
  {
   "cell_type": "markdown",
   "id": "9b459bb1",
   "metadata": {},
   "source": [
    "Using those names, I can use pandas, open each data frame, and save it as an element in a list:"
   ]
  },
  {
   "cell_type": "code",
   "execution_count": null,
   "id": "f05638f9",
   "metadata": {},
   "outputs": [],
   "source": [
    "list_Of_dfs=[] # empty list\n",
    "for file_name in all_file_names:\n",
    "    list_Of_dfs.append(pd.read_csv(file_name))"
   ]
  },
  {
   "cell_type": "markdown",
   "id": "4647bd00",
   "metadata": {},
   "source": [
    "Concatenating works better if columns in every DF are in the same place. Let's check the column names positions:"
   ]
  },
  {
   "cell_type": "code",
   "execution_count": null,
   "id": "8cbaa5f1",
   "metadata": {},
   "outputs": [],
   "source": [
    "for a_df in list_Of_dfs:\n",
    "    print(a_df.columns)"
   ]
  },
  {
   "cell_type": "markdown",
   "id": "af22b7e8",
   "metadata": {},
   "source": [
    "In this situation, I need to work on the column names of the last one:"
   ]
  },
  {
   "cell_type": "code",
   "execution_count": null,
   "id": "74c0037c",
   "metadata": {},
   "outputs": [],
   "source": [
    "# keep in the rigth order\n",
    "list_Of_dfs[3]['Combatants']=None # a new column, full of missing values\n",
    "list_Of_dfs[3]=list_Of_dfs[3][['War', 'Deathrange', 'Date', 'Combatants', 'Location', 'Notes']] # It look like the others now"
   ]
  },
  {
   "cell_type": "markdown",
   "id": "e3ecff47",
   "metadata": {},
   "source": [
    "Let's verify:"
   ]
  },
  {
   "cell_type": "code",
   "execution_count": null,
   "id": "2e8cb5d2",
   "metadata": {},
   "outputs": [],
   "source": [
    "# do this again:\n",
    "for a_df in list_Of_dfs:\n",
    "    print(a_df.columns)"
   ]
  },
  {
   "cell_type": "code",
   "execution_count": null,
   "id": "b8b0f6d0-c8b5-4980-b84b-5fd94eee62fb",
   "metadata": {},
   "outputs": [],
   "source": [
    "pd.concat(objs=list_Of_dfs, axis=1) # each to the right of the other one"
   ]
  },
  {
   "cell_type": "code",
   "execution_count": null,
   "id": "143cc006-f6b1-4c48-9df4-8bfd53ab6a9b",
   "metadata": {},
   "outputs": [],
   "source": [
    "pd.concat(objs=list_Of_dfs,axis=0) # each one under the other"
   ]
  },
  {
   "cell_type": "code",
   "execution_count": null,
   "id": "9fdd5c7a-1a1e-4213-b19a-bb4559ea7d65",
   "metadata": {},
   "outputs": [],
   "source": [
    "pd.concat(objs=list_Of_dfs,axis=0,ignore_index=True) # reset the index for the result"
   ]
  },
  {
   "cell_type": "markdown",
   "id": "390f0d84",
   "metadata": {},
   "source": [
    "Final result:"
   ]
  },
  {
   "cell_type": "code",
   "execution_count": null,
   "id": "b2897642",
   "metadata": {},
   "outputs": [],
   "source": [
    "allWars=pd.concat(objs=list_Of_dfs, # DFs as a list\n",
    "                  axis=0, # one DF on top of the other\n",
    "                  ignore_index=True, #very important\n",
    "                  copy=False)"
   ]
  },
  {
   "cell_type": "markdown",
   "id": "80e70041",
   "metadata": {},
   "source": [
    "You can save this now. This still needs cleaning and formatting."
   ]
  },
  {
   "cell_type": "code",
   "execution_count": null,
   "id": "028c2e92",
   "metadata": {},
   "outputs": [],
   "source": [
    "# os.mkdir(\"FilesConcatenated\")\n",
    "# pathAndName=os.path.join('FilesConcatenated','AllWars_concatenated.csv')\n",
    "# allWars.to_csv(pathAndName,index=False)"
   ]
  },
  {
   "cell_type": "code",
   "execution_count": null,
   "id": "e11ff806-7c58-45d1-baeb-ef4ca9afef8f",
   "metadata": {},
   "outputs": [],
   "source": []
  }
 ],
 "metadata": {
  "kernelspec": {
   "display_name": "Python 3 (ipykernel)",
   "language": "python",
   "name": "python3"
  },
  "language_info": {
   "codemirror_mode": {
    "name": "ipython",
    "version": 3
   },
   "file_extension": ".py",
   "mimetype": "text/x-python",
   "name": "python",
   "nbconvert_exporter": "python",
   "pygments_lexer": "ipython3",
   "version": "3.11.5"
  }
 },
 "nbformat": 4,
 "nbformat_minor": 5
}
