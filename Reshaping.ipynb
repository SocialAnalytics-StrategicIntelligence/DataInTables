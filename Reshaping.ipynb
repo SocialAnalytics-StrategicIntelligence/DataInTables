{
 "cells": [
  {
   "cell_type": "markdown",
   "id": "5cd47911",
   "metadata": {},
   "source": [
    "<img src=\"https://i.imgur.com/6U6q5jQ.png\"/>\n",
    "\n",
    "# Data Reshaping in Python\n",
    "\n",
    "\n",
    "Let me get the data on dengue from [Peru](https://www.datosabiertos.gob.pe/dataset/vigilancia-epidemiol%C3%B3gica-de-dengue):"
   ]
  },
  {
   "cell_type": "code",
   "execution_count": 2,
   "id": "932301d0",
   "metadata": {},
   "outputs": [
    {
     "ename": "ParserError",
     "evalue": "Error tokenizing data. C error: Expected 14 fields in line 87871, saw 16\n",
     "output_type": "error",
     "traceback": [
      "\u001b[0;31m---------------------------------------------------------------------------\u001b[0m",
      "\u001b[0;31mParserError\u001b[0m                               Traceback (most recent call last)",
      "Cell \u001b[0;32mIn[2], line 4\u001b[0m\n\u001b[1;32m      1\u001b[0m \u001b[38;5;28;01mimport\u001b[39;00m \u001b[38;5;21;01mpandas\u001b[39;00m \u001b[38;5;28;01mas\u001b[39;00m \u001b[38;5;21;01mpd\u001b[39;00m\n\u001b[1;32m      2\u001b[0m \u001b[38;5;28;01mimport\u001b[39;00m \u001b[38;5;21;01mos\u001b[39;00m\n\u001b[0;32m----> 4\u001b[0m dengue \u001b[38;5;241m=\u001b[39m \u001b[43mpd\u001b[49m\u001b[38;5;241;43m.\u001b[39;49m\u001b[43mread_csv\u001b[49m\u001b[43m(\u001b[49m\u001b[43mos\u001b[49m\u001b[38;5;241;43m.\u001b[39;49m\u001b[43mpath\u001b[49m\u001b[38;5;241;43m.\u001b[39;49m\u001b[43mjoin\u001b[49m\u001b[43m(\u001b[49m\u001b[38;5;124;43m'\u001b[39;49m\u001b[38;5;124;43mFilesToReshape\u001b[39;49m\u001b[38;5;124;43m'\u001b[39;49m\u001b[43m \u001b[49m\u001b[43m,\u001b[49m\u001b[43m \u001b[49m\u001b[38;5;124;43m\"\u001b[39;49m\u001b[38;5;124;43mdatos_abiertos_vigilancia_dengue.csv\u001b[39;49m\u001b[38;5;124;43m\"\u001b[39;49m\u001b[43m)\u001b[49m\u001b[43m)\u001b[49m\n",
      "File \u001b[0;32m~/opt/anaconda3/envs/SpatialDS_311_pandas2/lib/python3.11/site-packages/pandas/io/parsers/readers.py:948\u001b[0m, in \u001b[0;36mread_csv\u001b[0;34m(filepath_or_buffer, sep, delimiter, header, names, index_col, usecols, dtype, engine, converters, true_values, false_values, skipinitialspace, skiprows, skipfooter, nrows, na_values, keep_default_na, na_filter, verbose, skip_blank_lines, parse_dates, infer_datetime_format, keep_date_col, date_parser, date_format, dayfirst, cache_dates, iterator, chunksize, compression, thousands, decimal, lineterminator, quotechar, quoting, doublequote, escapechar, comment, encoding, encoding_errors, dialect, on_bad_lines, delim_whitespace, low_memory, memory_map, float_precision, storage_options, dtype_backend)\u001b[0m\n\u001b[1;32m    935\u001b[0m kwds_defaults \u001b[38;5;241m=\u001b[39m _refine_defaults_read(\n\u001b[1;32m    936\u001b[0m     dialect,\n\u001b[1;32m    937\u001b[0m     delimiter,\n\u001b[0;32m   (...)\u001b[0m\n\u001b[1;32m    944\u001b[0m     dtype_backend\u001b[38;5;241m=\u001b[39mdtype_backend,\n\u001b[1;32m    945\u001b[0m )\n\u001b[1;32m    946\u001b[0m kwds\u001b[38;5;241m.\u001b[39mupdate(kwds_defaults)\n\u001b[0;32m--> 948\u001b[0m \u001b[38;5;28;01mreturn\u001b[39;00m \u001b[43m_read\u001b[49m\u001b[43m(\u001b[49m\u001b[43mfilepath_or_buffer\u001b[49m\u001b[43m,\u001b[49m\u001b[43m \u001b[49m\u001b[43mkwds\u001b[49m\u001b[43m)\u001b[49m\n",
      "File \u001b[0;32m~/opt/anaconda3/envs/SpatialDS_311_pandas2/lib/python3.11/site-packages/pandas/io/parsers/readers.py:617\u001b[0m, in \u001b[0;36m_read\u001b[0;34m(filepath_or_buffer, kwds)\u001b[0m\n\u001b[1;32m    614\u001b[0m     \u001b[38;5;28;01mreturn\u001b[39;00m parser\n\u001b[1;32m    616\u001b[0m \u001b[38;5;28;01mwith\u001b[39;00m parser:\n\u001b[0;32m--> 617\u001b[0m     \u001b[38;5;28;01mreturn\u001b[39;00m \u001b[43mparser\u001b[49m\u001b[38;5;241;43m.\u001b[39;49m\u001b[43mread\u001b[49m\u001b[43m(\u001b[49m\u001b[43mnrows\u001b[49m\u001b[43m)\u001b[49m\n",
      "File \u001b[0;32m~/opt/anaconda3/envs/SpatialDS_311_pandas2/lib/python3.11/site-packages/pandas/io/parsers/readers.py:1748\u001b[0m, in \u001b[0;36mTextFileReader.read\u001b[0;34m(self, nrows)\u001b[0m\n\u001b[1;32m   1741\u001b[0m nrows \u001b[38;5;241m=\u001b[39m validate_integer(\u001b[38;5;124m\"\u001b[39m\u001b[38;5;124mnrows\u001b[39m\u001b[38;5;124m\"\u001b[39m, nrows)\n\u001b[1;32m   1742\u001b[0m \u001b[38;5;28;01mtry\u001b[39;00m:\n\u001b[1;32m   1743\u001b[0m     \u001b[38;5;66;03m# error: \"ParserBase\" has no attribute \"read\"\u001b[39;00m\n\u001b[1;32m   1744\u001b[0m     (\n\u001b[1;32m   1745\u001b[0m         index,\n\u001b[1;32m   1746\u001b[0m         columns,\n\u001b[1;32m   1747\u001b[0m         col_dict,\n\u001b[0;32m-> 1748\u001b[0m     ) \u001b[38;5;241m=\u001b[39m \u001b[38;5;28;43mself\u001b[39;49m\u001b[38;5;241;43m.\u001b[39;49m\u001b[43m_engine\u001b[49m\u001b[38;5;241;43m.\u001b[39;49m\u001b[43mread\u001b[49m\u001b[43m(\u001b[49m\u001b[43m  \u001b[49m\u001b[38;5;66;43;03m# type: ignore[attr-defined]\u001b[39;49;00m\n\u001b[1;32m   1749\u001b[0m \u001b[43m        \u001b[49m\u001b[43mnrows\u001b[49m\n\u001b[1;32m   1750\u001b[0m \u001b[43m    \u001b[49m\u001b[43m)\u001b[49m\n\u001b[1;32m   1751\u001b[0m \u001b[38;5;28;01mexcept\u001b[39;00m \u001b[38;5;167;01mException\u001b[39;00m:\n\u001b[1;32m   1752\u001b[0m     \u001b[38;5;28mself\u001b[39m\u001b[38;5;241m.\u001b[39mclose()\n",
      "File \u001b[0;32m~/opt/anaconda3/envs/SpatialDS_311_pandas2/lib/python3.11/site-packages/pandas/io/parsers/c_parser_wrapper.py:234\u001b[0m, in \u001b[0;36mCParserWrapper.read\u001b[0;34m(self, nrows)\u001b[0m\n\u001b[1;32m    232\u001b[0m \u001b[38;5;28;01mtry\u001b[39;00m:\n\u001b[1;32m    233\u001b[0m     \u001b[38;5;28;01mif\u001b[39;00m \u001b[38;5;28mself\u001b[39m\u001b[38;5;241m.\u001b[39mlow_memory:\n\u001b[0;32m--> 234\u001b[0m         chunks \u001b[38;5;241m=\u001b[39m \u001b[38;5;28;43mself\u001b[39;49m\u001b[38;5;241;43m.\u001b[39;49m\u001b[43m_reader\u001b[49m\u001b[38;5;241;43m.\u001b[39;49m\u001b[43mread_low_memory\u001b[49m\u001b[43m(\u001b[49m\u001b[43mnrows\u001b[49m\u001b[43m)\u001b[49m\n\u001b[1;32m    235\u001b[0m         \u001b[38;5;66;03m# destructive to chunks\u001b[39;00m\n\u001b[1;32m    236\u001b[0m         data \u001b[38;5;241m=\u001b[39m _concatenate_chunks(chunks)\n",
      "File \u001b[0;32mparsers.pyx:843\u001b[0m, in \u001b[0;36mpandas._libs.parsers.TextReader.read_low_memory\u001b[0;34m()\u001b[0m\n",
      "File \u001b[0;32mparsers.pyx:904\u001b[0m, in \u001b[0;36mpandas._libs.parsers.TextReader._read_rows\u001b[0;34m()\u001b[0m\n",
      "File \u001b[0;32mparsers.pyx:879\u001b[0m, in \u001b[0;36mpandas._libs.parsers.TextReader._tokenize_rows\u001b[0;34m()\u001b[0m\n",
      "File \u001b[0;32mparsers.pyx:890\u001b[0m, in \u001b[0;36mpandas._libs.parsers.TextReader._check_tokenize_status\u001b[0;34m()\u001b[0m\n",
      "File \u001b[0;32mparsers.pyx:2058\u001b[0m, in \u001b[0;36mpandas._libs.parsers.raise_parser_error\u001b[0;34m()\u001b[0m\n",
      "\u001b[0;31mParserError\u001b[0m: Error tokenizing data. C error: Expected 14 fields in line 87871, saw 16\n"
     ]
    }
   ],
   "source": [
    "import pandas as pd\n",
    "import os\n",
    "\n",
    "dengue = pd.read_csv(os.path.join('FilesToReshape' , \"datos_abiertos_vigilancia_dengue.csv\"))"
   ]
  },
  {
   "cell_type": "code",
   "execution_count": null,
   "id": "a56152cd-39f5-42ef-8a04-421ae38a384a",
   "metadata": {},
   "outputs": [],
   "source": [
    "dengue = pd.read_csv(os.path.join('FilesToReshape' , \"datos_abiertos_vigilancia_dengue.csv\"),on_bad_lines='warn')"
   ]
  },
  {
   "cell_type": "markdown",
   "id": "d7e308d5-7934-4349-8390-6052f346136e",
   "metadata": {},
   "source": [
    "Pandas offers **on_bad_lines='warn'** to let you know if something does not make sense. As you see, you have 8 lines that were omitted. This is what you have now:"
   ]
  },
  {
   "cell_type": "code",
   "execution_count": null,
   "id": "044081dd-8d36-4a91-94fd-8a9d3d176f8a",
   "metadata": {},
   "outputs": [],
   "source": [
    "dengue.shape"
   ]
  },
  {
   "cell_type": "markdown",
   "id": "dc20ca9c-84c1-4fea-b499-7f0918744463",
   "metadata": {},
   "source": [
    "You can try in a different way:"
   ]
  },
  {
   "cell_type": "code",
   "execution_count": null,
   "id": "487d4281-55c3-4224-8785-3850a28d0ffb",
   "metadata": {},
   "outputs": [],
   "source": [
    "dengue2=pd.read_table(os.path.join('FilesToReshape' , \"datos_abiertos_vigilancia_dengue.csv\"))\n",
    "dengue2"
   ]
  },
  {
   "cell_type": "markdown",
   "id": "a76e4b26-c574-488f-b108-f7e61bb1e474",
   "metadata": {},
   "source": [
    "You did not get a warning, and in fact you got 8 more rows. You can try to identify what is wrong:"
   ]
  },
  {
   "cell_type": "code",
   "execution_count": null,
   "id": "5397c9a0-d618-452f-a64a-86b06c44518e",
   "metadata": {},
   "outputs": [],
   "source": [
    "dengue2.iloc[87867:87873,0]"
   ]
  },
  {
   "cell_type": "code",
   "execution_count": null,
   "id": "bf8d563a-62d6-4e1b-93e3-1b935fc19cae",
   "metadata": {},
   "outputs": [],
   "source": [
    "# use that weird text:\n",
    "dengue2[dengue2.iloc[:,0].str.contains(\"I\\\\,II\",regex=False)]"
   ]
  },
  {
   "cell_type": "markdown",
   "id": "f0ac679d-c5ed-4599-a18f-ea1e387d8d3f",
   "metadata": {},
   "source": [
    "I have prepared a cleaner version:"
   ]
  },
  {
   "cell_type": "code",
   "execution_count": 3,
   "id": "ee99f082-ff50-43af-817e-f048fc8b792d",
   "metadata": {},
   "outputs": [
    {
     "name": "stderr",
     "output_type": "stream",
     "text": [
      "/var/folders/2n/bkfhfqq16r78g3hf7pdj56y40000gn/T/ipykernel_33850/4080489231.py:1: DtypeWarning: Columns (10) have mixed types. Specify dtype option on import or set low_memory=False.\n",
      "  dengue = pd.read_csv(os.path.join('FilesToReshape' , \"datos_abiertos_vigilancia_dengue_ok.csv\"))\n"
     ]
    },
    {
     "name": "stdout",
     "output_type": "stream",
     "text": [
      "<class 'pandas.core.frame.DataFrame'>\n",
      "RangeIndex: 501692 entries, 0 to 501691\n",
      "Data columns (total 14 columns):\n",
      " #   Column        Non-Null Count   Dtype  \n",
      "---  ------        --------------   -----  \n",
      " 0   departamento  501692 non-null  object \n",
      " 1   provincia     501692 non-null  object \n",
      " 2   distrito      501692 non-null  object \n",
      " 3   localidad     400753 non-null  object \n",
      " 4   enfermedad    501692 non-null  object \n",
      " 5   ano           501692 non-null  int64  \n",
      " 6   semana        501692 non-null  int64  \n",
      " 7   diagnostic    501692 non-null  object \n",
      " 8   diresa        501669 non-null  float64\n",
      " 9   ubigeo        501692 non-null  int64  \n",
      " 10  localcod      407822 non-null  object \n",
      " 11  edad          501692 non-null  int64  \n",
      " 12  tipo_edad     501692 non-null  object \n",
      " 13  sexo          501692 non-null  object \n",
      "dtypes: float64(1), int64(4), object(9)\n",
      "memory usage: 53.6+ MB\n"
     ]
    }
   ],
   "source": [
    "dengue = pd.read_csv(os.path.join('FilesToReshape' , \"datos_abiertos_vigilancia_dengue_ok.csv\"))\n",
    "dengue.info()"
   ]
  },
  {
   "cell_type": "code",
   "execution_count": 4,
   "id": "51796188-3e8a-405b-b73f-5c9d84c35c51",
   "metadata": {},
   "outputs": [
    {
     "name": "stdout",
     "output_type": "stream",
     "text": [
      "<class 'pandas.core.frame.DataFrame'>\n",
      "RangeIndex: 501692 entries, 0 to 501691\n",
      "Data columns (total 14 columns):\n",
      " #   Column        Non-Null Count   Dtype  \n",
      "---  ------        --------------   -----  \n",
      " 0   departamento  501692 non-null  object \n",
      " 1   provincia     501692 non-null  object \n",
      " 2   distrito      501692 non-null  object \n",
      " 3   localidad     400753 non-null  object \n",
      " 4   enfermedad    501692 non-null  object \n",
      " 5   ano           501692 non-null  int64  \n",
      " 6   semana        501692 non-null  int64  \n",
      " 7   diagnostic    501692 non-null  object \n",
      " 8   diresa        501669 non-null  float64\n",
      " 9   ubigeo        501692 non-null  int64  \n",
      " 10  localcod      407822 non-null  object \n",
      " 11  edad          501692 non-null  int64  \n",
      " 12  tipo_edad     501692 non-null  object \n",
      " 13  sexo          501692 non-null  object \n",
      "dtypes: float64(1), int64(4), object(9)\n",
      "memory usage: 53.6+ MB\n"
     ]
    }
   ],
   "source": [
    "dengue = pd.read_csv(os.path.join('FilesToReshape' , \"datos_abiertos_vigilancia_dengue_ok.csv\"),encoding='utf-8', engine='python')\n",
    "dengue.info()"
   ]
  },
  {
   "cell_type": "markdown",
   "id": "dc50bcd5-d47c-4ecc-b32e-d265063d361f",
   "metadata": {},
   "source": [
    "Let me select a subset of columns:"
   ]
  },
  {
   "cell_type": "code",
   "execution_count": 19,
   "id": "4906ba1e-3897-459b-963c-96d9744fdfaf",
   "metadata": {},
   "outputs": [
    {
     "data": {
      "text/html": [
       "<div>\n",
       "<style scoped>\n",
       "    .dataframe tbody tr th:only-of-type {\n",
       "        vertical-align: middle;\n",
       "    }\n",
       "\n",
       "    .dataframe tbody tr th {\n",
       "        vertical-align: top;\n",
       "    }\n",
       "\n",
       "    .dataframe thead th {\n",
       "        text-align: right;\n",
       "    }\n",
       "</style>\n",
       "<table border=\"1\" class=\"dataframe\">\n",
       "  <thead>\n",
       "    <tr style=\"text-align: right;\">\n",
       "      <th></th>\n",
       "      <th>departamento</th>\n",
       "      <th>provincia</th>\n",
       "      <th>distrito</th>\n",
       "      <th>ano</th>\n",
       "      <th>semana</th>\n",
       "      <th>sexo</th>\n",
       "      <th>enfermedad</th>\n",
       "    </tr>\n",
       "  </thead>\n",
       "  <tbody>\n",
       "    <tr>\n",
       "      <th>0</th>\n",
       "      <td>HUANUCO</td>\n",
       "      <td>LEONCIO PRADO</td>\n",
       "      <td>LUYANDO</td>\n",
       "      <td>2000</td>\n",
       "      <td>47</td>\n",
       "      <td>M</td>\n",
       "      <td>DENGUE SIN SEÑALES DE ALARMA</td>\n",
       "    </tr>\n",
       "    <tr>\n",
       "      <th>1</th>\n",
       "      <td>HUANUCO</td>\n",
       "      <td>LEONCIO PRADO</td>\n",
       "      <td>LUYANDO</td>\n",
       "      <td>2000</td>\n",
       "      <td>40</td>\n",
       "      <td>F</td>\n",
       "      <td>DENGUE SIN SEÑALES DE ALARMA</td>\n",
       "    </tr>\n",
       "    <tr>\n",
       "      <th>2</th>\n",
       "      <td>HUANUCO</td>\n",
       "      <td>LEONCIO PRADO</td>\n",
       "      <td>JOSE CRESPO Y CASTILLO</td>\n",
       "      <td>2000</td>\n",
       "      <td>48</td>\n",
       "      <td>F</td>\n",
       "      <td>DENGUE SIN SEÑALES DE ALARMA</td>\n",
       "    </tr>\n",
       "    <tr>\n",
       "      <th>3</th>\n",
       "      <td>HUANUCO</td>\n",
       "      <td>LEONCIO PRADO</td>\n",
       "      <td>JOSE CRESPO Y CASTILLO</td>\n",
       "      <td>2000</td>\n",
       "      <td>37</td>\n",
       "      <td>F</td>\n",
       "      <td>DENGUE SIN SEÑALES DE ALARMA</td>\n",
       "    </tr>\n",
       "    <tr>\n",
       "      <th>4</th>\n",
       "      <td>HUANUCO</td>\n",
       "      <td>LEONCIO PRADO</td>\n",
       "      <td>MARIANO DAMASO BERAUN</td>\n",
       "      <td>2000</td>\n",
       "      <td>42</td>\n",
       "      <td>M</td>\n",
       "      <td>DENGUE SIN SEÑALES DE ALARMA</td>\n",
       "    </tr>\n",
       "  </tbody>\n",
       "</table>\n",
       "</div>"
      ],
      "text/plain": [
       "  departamento      provincia                distrito   ano  semana sexo  \\\n",
       "0      HUANUCO  LEONCIO PRADO                 LUYANDO  2000      47    M   \n",
       "1      HUANUCO  LEONCIO PRADO                 LUYANDO  2000      40    F   \n",
       "2      HUANUCO  LEONCIO PRADO  JOSE CRESPO Y CASTILLO  2000      48    F   \n",
       "3      HUANUCO  LEONCIO PRADO  JOSE CRESPO Y CASTILLO  2000      37    F   \n",
       "4      HUANUCO  LEONCIO PRADO   MARIANO DAMASO BERAUN  2000      42    M   \n",
       "\n",
       "                     enfermedad  \n",
       "0  DENGUE SIN SEÑALES DE ALARMA  \n",
       "1  DENGUE SIN SEÑALES DE ALARMA  \n",
       "2  DENGUE SIN SEÑALES DE ALARMA  \n",
       "3  DENGUE SIN SEÑALES DE ALARMA  \n",
       "4  DENGUE SIN SEÑALES DE ALARMA  "
      ]
     },
     "execution_count": 19,
     "metadata": {},
     "output_type": "execute_result"
    }
   ],
   "source": [
    "toSelect=['departamento', 'provincia', 'distrito','ano', 'semana', 'sexo','enfermedad']\n",
    "dengueSub=dengue[toSelect]\n",
    "dengueSub.head()"
   ]
  },
  {
   "cell_type": "markdown",
   "id": "646e5d34-b01e-41ef-ba6a-44bf23907524",
   "metadata": {},
   "source": [
    "As we know there were issues with text, let's check department values:"
   ]
  },
  {
   "cell_type": "code",
   "execution_count": 20,
   "id": "3e8242bd-4acf-4097-87c7-a9e545fa891f",
   "metadata": {},
   "outputs": [
    {
     "data": {
      "text/plain": [
       "departamento\n",
       "PIURA            126410\n",
       "LORETO            92496\n",
       "UCAYALI           43707\n",
       "MADRE DE DIOS     30562\n",
       "TUMBES            27314\n",
       "SAN MARTIN        26759\n",
       "LA LIBERTAD       24377\n",
       "ICA               21324\n",
       "CAJAMARCA         19409\n",
       "JUNIN             19199\n",
       "LAMBAYEQUE        15618\n",
       "AMAZONAS          12017\n",
       "CUSCO             10476\n",
       "HUANUCO            9046\n",
       "AYACUCHO           8889\n",
       "ANCASH             7214\n",
       "LIMA               4255\n",
       "PASCO              1963\n",
       "\\N                  444\n",
       "PUNO                179\n",
       "CALLAO               26\n",
       "AREQUIPA              7\n",
       "MOQUEGUA              1\n",
       "Name: count, dtype: int64"
      ]
     },
     "execution_count": 20,
     "metadata": {},
     "output_type": "execute_result"
    }
   ],
   "source": [
    "dengueSub.departamento.value_counts()"
   ]
  },
  {
   "cell_type": "code",
   "execution_count": 21,
   "id": "72db895f-f4bd-4b34-b5f6-df6c6232b5cb",
   "metadata": {},
   "outputs": [
    {
     "data": {
      "text/html": [
       "<div>\n",
       "<style scoped>\n",
       "    .dataframe tbody tr th:only-of-type {\n",
       "        vertical-align: middle;\n",
       "    }\n",
       "\n",
       "    .dataframe tbody tr th {\n",
       "        vertical-align: top;\n",
       "    }\n",
       "\n",
       "    .dataframe thead th {\n",
       "        text-align: right;\n",
       "    }\n",
       "</style>\n",
       "<table border=\"1\" class=\"dataframe\">\n",
       "  <thead>\n",
       "    <tr style=\"text-align: right;\">\n",
       "      <th></th>\n",
       "      <th>departamento</th>\n",
       "      <th>provincia</th>\n",
       "      <th>distrito</th>\n",
       "      <th>ano</th>\n",
       "      <th>semana</th>\n",
       "      <th>sexo</th>\n",
       "      <th>enfermedad</th>\n",
       "    </tr>\n",
       "  </thead>\n",
       "  <tbody>\n",
       "    <tr>\n",
       "      <th>79131</th>\n",
       "      <td>\\N</td>\n",
       "      <td>\\N</td>\n",
       "      <td>\\N</td>\n",
       "      <td>2009</td>\n",
       "      <td>1</td>\n",
       "      <td>F</td>\n",
       "      <td>DENGUE SIN SEÑALES DE ALARMA</td>\n",
       "    </tr>\n",
       "    <tr>\n",
       "      <th>79656</th>\n",
       "      <td>\\N</td>\n",
       "      <td>\\N</td>\n",
       "      <td>\\N</td>\n",
       "      <td>2009</td>\n",
       "      <td>7</td>\n",
       "      <td>M</td>\n",
       "      <td>DENGUE SIN SEÑALES DE ALARMA</td>\n",
       "    </tr>\n",
       "    <tr>\n",
       "      <th>80500</th>\n",
       "      <td>\\N</td>\n",
       "      <td>\\N</td>\n",
       "      <td>\\N</td>\n",
       "      <td>2009</td>\n",
       "      <td>26</td>\n",
       "      <td>F</td>\n",
       "      <td>DENGUE SIN SEÑALES DE ALARMA</td>\n",
       "    </tr>\n",
       "    <tr>\n",
       "      <th>84253</th>\n",
       "      <td>\\N</td>\n",
       "      <td>\\N</td>\n",
       "      <td>\\N</td>\n",
       "      <td>2009</td>\n",
       "      <td>28</td>\n",
       "      <td>M</td>\n",
       "      <td>DENGUE SIN SEÑALES DE ALARMA</td>\n",
       "    </tr>\n",
       "    <tr>\n",
       "      <th>85102</th>\n",
       "      <td>\\N</td>\n",
       "      <td>\\N</td>\n",
       "      <td>\\N</td>\n",
       "      <td>2009</td>\n",
       "      <td>4</td>\n",
       "      <td>F</td>\n",
       "      <td>DENGUE SIN SEÑALES DE ALARMA</td>\n",
       "    </tr>\n",
       "    <tr>\n",
       "      <th>...</th>\n",
       "      <td>...</td>\n",
       "      <td>...</td>\n",
       "      <td>...</td>\n",
       "      <td>...</td>\n",
       "      <td>...</td>\n",
       "      <td>...</td>\n",
       "      <td>...</td>\n",
       "    </tr>\n",
       "    <tr>\n",
       "      <th>480825</th>\n",
       "      <td>\\N</td>\n",
       "      <td>\\N</td>\n",
       "      <td>\\N</td>\n",
       "      <td>2022</td>\n",
       "      <td>23</td>\n",
       "      <td>F</td>\n",
       "      <td>DENGUE SIN SEÑALES DE ALARMA</td>\n",
       "    </tr>\n",
       "    <tr>\n",
       "      <th>486719</th>\n",
       "      <td>\\N</td>\n",
       "      <td>\\N</td>\n",
       "      <td>\\N</td>\n",
       "      <td>2022</td>\n",
       "      <td>33</td>\n",
       "      <td>F</td>\n",
       "      <td>DENGUE SIN SEÑALES DE ALARMA</td>\n",
       "    </tr>\n",
       "    <tr>\n",
       "      <th>487630</th>\n",
       "      <td>\\N</td>\n",
       "      <td>\\N</td>\n",
       "      <td>\\N</td>\n",
       "      <td>2022</td>\n",
       "      <td>34</td>\n",
       "      <td>M</td>\n",
       "      <td>DENGUE SIN SEÑALES DE ALARMA</td>\n",
       "    </tr>\n",
       "    <tr>\n",
       "      <th>491395</th>\n",
       "      <td>\\N</td>\n",
       "      <td>\\N</td>\n",
       "      <td>\\N</td>\n",
       "      <td>2022</td>\n",
       "      <td>43</td>\n",
       "      <td>F</td>\n",
       "      <td>DENGUE SIN SEÑALES DE ALARMA</td>\n",
       "    </tr>\n",
       "    <tr>\n",
       "      <th>493020</th>\n",
       "      <td>\\N</td>\n",
       "      <td>\\N</td>\n",
       "      <td>\\N</td>\n",
       "      <td>2022</td>\n",
       "      <td>32</td>\n",
       "      <td>F</td>\n",
       "      <td>DENGUE SIN SEÑALES DE ALARMA</td>\n",
       "    </tr>\n",
       "  </tbody>\n",
       "</table>\n",
       "<p>444 rows × 7 columns</p>\n",
       "</div>"
      ],
      "text/plain": [
       "       departamento provincia distrito   ano  semana sexo  \\\n",
       "79131            \\N        \\N       \\N  2009       1    F   \n",
       "79656            \\N        \\N       \\N  2009       7    M   \n",
       "80500            \\N        \\N       \\N  2009      26    F   \n",
       "84253            \\N        \\N       \\N  2009      28    M   \n",
       "85102            \\N        \\N       \\N  2009       4    F   \n",
       "...             ...       ...      ...   ...     ...  ...   \n",
       "480825           \\N        \\N       \\N  2022      23    F   \n",
       "486719           \\N        \\N       \\N  2022      33    F   \n",
       "487630           \\N        \\N       \\N  2022      34    M   \n",
       "491395           \\N        \\N       \\N  2022      43    F   \n",
       "493020           \\N        \\N       \\N  2022      32    F   \n",
       "\n",
       "                          enfermedad  \n",
       "79131   DENGUE SIN SEÑALES DE ALARMA  \n",
       "79656   DENGUE SIN SEÑALES DE ALARMA  \n",
       "80500   DENGUE SIN SEÑALES DE ALARMA  \n",
       "84253   DENGUE SIN SEÑALES DE ALARMA  \n",
       "85102   DENGUE SIN SEÑALES DE ALARMA  \n",
       "...                              ...  \n",
       "480825  DENGUE SIN SEÑALES DE ALARMA  \n",
       "486719  DENGUE SIN SEÑALES DE ALARMA  \n",
       "487630  DENGUE SIN SEÑALES DE ALARMA  \n",
       "491395  DENGUE SIN SEÑALES DE ALARMA  \n",
       "493020  DENGUE SIN SEÑALES DE ALARMA  \n",
       "\n",
       "[444 rows x 7 columns]"
      ]
     },
     "execution_count": 21,
     "metadata": {},
     "output_type": "execute_result"
    }
   ],
   "source": [
    "dengueSub[dengueSub.departamento.str.contains('\\\\N',regex=False)]"
   ]
  },
  {
   "cell_type": "code",
   "execution_count": 22,
   "id": "66ea0088-c4aa-4046-b99c-0f464feadb01",
   "metadata": {},
   "outputs": [
    {
     "data": {
      "text/html": [
       "<div>\n",
       "<style scoped>\n",
       "    .dataframe tbody tr th:only-of-type {\n",
       "        vertical-align: middle;\n",
       "    }\n",
       "\n",
       "    .dataframe tbody tr th {\n",
       "        vertical-align: top;\n",
       "    }\n",
       "\n",
       "    .dataframe thead th {\n",
       "        text-align: right;\n",
       "    }\n",
       "</style>\n",
       "<table border=\"1\" class=\"dataframe\">\n",
       "  <thead>\n",
       "    <tr style=\"text-align: right;\">\n",
       "      <th></th>\n",
       "      <th>departamento</th>\n",
       "      <th>provincia</th>\n",
       "      <th>distrito</th>\n",
       "      <th>ano</th>\n",
       "      <th>semana</th>\n",
       "      <th>sexo</th>\n",
       "      <th>enfermedad</th>\n",
       "    </tr>\n",
       "  </thead>\n",
       "  <tbody>\n",
       "    <tr>\n",
       "      <th>79131</th>\n",
       "      <td>\\N</td>\n",
       "      <td>\\N</td>\n",
       "      <td>\\N</td>\n",
       "      <td>2009</td>\n",
       "      <td>1</td>\n",
       "      <td>F</td>\n",
       "      <td>DENGUE SIN SEÑALES DE ALARMA</td>\n",
       "    </tr>\n",
       "    <tr>\n",
       "      <th>79656</th>\n",
       "      <td>\\N</td>\n",
       "      <td>\\N</td>\n",
       "      <td>\\N</td>\n",
       "      <td>2009</td>\n",
       "      <td>7</td>\n",
       "      <td>M</td>\n",
       "      <td>DENGUE SIN SEÑALES DE ALARMA</td>\n",
       "    </tr>\n",
       "    <tr>\n",
       "      <th>80500</th>\n",
       "      <td>\\N</td>\n",
       "      <td>\\N</td>\n",
       "      <td>\\N</td>\n",
       "      <td>2009</td>\n",
       "      <td>26</td>\n",
       "      <td>F</td>\n",
       "      <td>DENGUE SIN SEÑALES DE ALARMA</td>\n",
       "    </tr>\n",
       "    <tr>\n",
       "      <th>84253</th>\n",
       "      <td>\\N</td>\n",
       "      <td>\\N</td>\n",
       "      <td>\\N</td>\n",
       "      <td>2009</td>\n",
       "      <td>28</td>\n",
       "      <td>M</td>\n",
       "      <td>DENGUE SIN SEÑALES DE ALARMA</td>\n",
       "    </tr>\n",
       "    <tr>\n",
       "      <th>85102</th>\n",
       "      <td>\\N</td>\n",
       "      <td>\\N</td>\n",
       "      <td>\\N</td>\n",
       "      <td>2009</td>\n",
       "      <td>4</td>\n",
       "      <td>F</td>\n",
       "      <td>DENGUE SIN SEÑALES DE ALARMA</td>\n",
       "    </tr>\n",
       "    <tr>\n",
       "      <th>...</th>\n",
       "      <td>...</td>\n",
       "      <td>...</td>\n",
       "      <td>...</td>\n",
       "      <td>...</td>\n",
       "      <td>...</td>\n",
       "      <td>...</td>\n",
       "      <td>...</td>\n",
       "    </tr>\n",
       "    <tr>\n",
       "      <th>480825</th>\n",
       "      <td>\\N</td>\n",
       "      <td>\\N</td>\n",
       "      <td>\\N</td>\n",
       "      <td>2022</td>\n",
       "      <td>23</td>\n",
       "      <td>F</td>\n",
       "      <td>DENGUE SIN SEÑALES DE ALARMA</td>\n",
       "    </tr>\n",
       "    <tr>\n",
       "      <th>486719</th>\n",
       "      <td>\\N</td>\n",
       "      <td>\\N</td>\n",
       "      <td>\\N</td>\n",
       "      <td>2022</td>\n",
       "      <td>33</td>\n",
       "      <td>F</td>\n",
       "      <td>DENGUE SIN SEÑALES DE ALARMA</td>\n",
       "    </tr>\n",
       "    <tr>\n",
       "      <th>487630</th>\n",
       "      <td>\\N</td>\n",
       "      <td>\\N</td>\n",
       "      <td>\\N</td>\n",
       "      <td>2022</td>\n",
       "      <td>34</td>\n",
       "      <td>M</td>\n",
       "      <td>DENGUE SIN SEÑALES DE ALARMA</td>\n",
       "    </tr>\n",
       "    <tr>\n",
       "      <th>491395</th>\n",
       "      <td>\\N</td>\n",
       "      <td>\\N</td>\n",
       "      <td>\\N</td>\n",
       "      <td>2022</td>\n",
       "      <td>43</td>\n",
       "      <td>F</td>\n",
       "      <td>DENGUE SIN SEÑALES DE ALARMA</td>\n",
       "    </tr>\n",
       "    <tr>\n",
       "      <th>493020</th>\n",
       "      <td>\\N</td>\n",
       "      <td>\\N</td>\n",
       "      <td>\\N</td>\n",
       "      <td>2022</td>\n",
       "      <td>32</td>\n",
       "      <td>F</td>\n",
       "      <td>DENGUE SIN SEÑALES DE ALARMA</td>\n",
       "    </tr>\n",
       "  </tbody>\n",
       "</table>\n",
       "<p>444 rows × 7 columns</p>\n",
       "</div>"
      ],
      "text/plain": [
       "       departamento provincia distrito   ano  semana sexo  \\\n",
       "79131            \\N        \\N       \\N  2009       1    F   \n",
       "79656            \\N        \\N       \\N  2009       7    M   \n",
       "80500            \\N        \\N       \\N  2009      26    F   \n",
       "84253            \\N        \\N       \\N  2009      28    M   \n",
       "85102            \\N        \\N       \\N  2009       4    F   \n",
       "...             ...       ...      ...   ...     ...  ...   \n",
       "480825           \\N        \\N       \\N  2022      23    F   \n",
       "486719           \\N        \\N       \\N  2022      33    F   \n",
       "487630           \\N        \\N       \\N  2022      34    M   \n",
       "491395           \\N        \\N       \\N  2022      43    F   \n",
       "493020           \\N        \\N       \\N  2022      32    F   \n",
       "\n",
       "                          enfermedad  \n",
       "79131   DENGUE SIN SEÑALES DE ALARMA  \n",
       "79656   DENGUE SIN SEÑALES DE ALARMA  \n",
       "80500   DENGUE SIN SEÑALES DE ALARMA  \n",
       "84253   DENGUE SIN SEÑALES DE ALARMA  \n",
       "85102   DENGUE SIN SEÑALES DE ALARMA  \n",
       "...                              ...  \n",
       "480825  DENGUE SIN SEÑALES DE ALARMA  \n",
       "486719  DENGUE SIN SEÑALES DE ALARMA  \n",
       "487630  DENGUE SIN SEÑALES DE ALARMA  \n",
       "491395  DENGUE SIN SEÑALES DE ALARMA  \n",
       "493020  DENGUE SIN SEÑALES DE ALARMA  \n",
       "\n",
       "[444 rows x 7 columns]"
      ]
     },
     "execution_count": 22,
     "metadata": {},
     "output_type": "execute_result"
    }
   ],
   "source": [
    "dengueSub[dengueSub.distrito.str.contains('\\\\N',regex=False)]"
   ]
  },
  {
   "cell_type": "markdown",
   "id": "b4a6673d-5266-446d-884e-e37fc29b5fbe",
   "metadata": {},
   "source": [
    "Now, we keep the complete data:"
   ]
  },
  {
   "cell_type": "code",
   "execution_count": 23,
   "id": "95905c79-13fb-4c30-9d81-2066ba24a62d",
   "metadata": {},
   "outputs": [
    {
     "name": "stderr",
     "output_type": "stream",
     "text": [
      "/var/folders/2n/bkfhfqq16r78g3hf7pdj56y40000gn/T/ipykernel_33850/3813897578.py:2: SettingWithCopyWarning: \n",
      "A value is trying to be set on a copy of a slice from a DataFrame\n",
      "\n",
      "See the caveats in the documentation: https://pandas.pydata.org/pandas-docs/stable/user_guide/indexing.html#returning-a-view-versus-a-copy\n",
      "  dengueSub.replace('\\\\N',None,regex=False,inplace=True)\n",
      "/var/folders/2n/bkfhfqq16r78g3hf7pdj56y40000gn/T/ipykernel_33850/3813897578.py:4: SettingWithCopyWarning: \n",
      "A value is trying to be set on a copy of a slice from a DataFrame\n",
      "\n",
      "See the caveats in the documentation: https://pandas.pydata.org/pandas-docs/stable/user_guide/indexing.html#returning-a-view-versus-a-copy\n",
      "  dengueSub.dropna(how='any',inplace=True,ignore_index=True)\n"
     ]
    }
   ],
   "source": [
    "# Let's replace that cell value in all the data frame:  \n",
    "dengueSub.replace('\\\\N',None,regex=False,inplace=True)\n",
    "# dropping\n",
    "dengueSub.dropna(how='any',inplace=True,ignore_index=True)"
   ]
  },
  {
   "cell_type": "code",
   "execution_count": 24,
   "id": "e005599a-dd3a-4049-93e2-0a46ce96e32f",
   "metadata": {},
   "outputs": [
    {
     "name": "stdout",
     "output_type": "stream",
     "text": [
      "<class 'pandas.core.frame.DataFrame'>\n",
      "RangeIndex: 501248 entries, 0 to 501247\n",
      "Data columns (total 7 columns):\n",
      " #   Column        Non-Null Count   Dtype \n",
      "---  ------        --------------   ----- \n",
      " 0   departamento  501248 non-null  object\n",
      " 1   provincia     501248 non-null  object\n",
      " 2   distrito      501248 non-null  object\n",
      " 3   ano           501248 non-null  int64 \n",
      " 4   semana        501248 non-null  int64 \n",
      " 5   sexo          501248 non-null  object\n",
      " 6   enfermedad    501248 non-null  object\n",
      "dtypes: int64(2), object(5)\n",
      "memory usage: 26.8+ MB\n"
     ]
    }
   ],
   "source": [
    "dengueSub.info()"
   ]
  },
  {
   "cell_type": "markdown",
   "id": "052514b6-2f28-498c-a3af-1f7d60c83406",
   "metadata": {},
   "source": [
    "The data is about people, but since there is no identifier for a person, it is possible that rows are repeated:"
   ]
  },
  {
   "cell_type": "code",
   "execution_count": 25,
   "id": "f9479282-8d6c-4d96-8307-f625ade7a4a1",
   "metadata": {},
   "outputs": [
    {
     "data": {
      "text/html": [
       "<div>\n",
       "<style scoped>\n",
       "    .dataframe tbody tr th:only-of-type {\n",
       "        vertical-align: middle;\n",
       "    }\n",
       "\n",
       "    .dataframe tbody tr th {\n",
       "        vertical-align: top;\n",
       "    }\n",
       "\n",
       "    .dataframe thead th {\n",
       "        text-align: right;\n",
       "    }\n",
       "</style>\n",
       "<table border=\"1\" class=\"dataframe\">\n",
       "  <thead>\n",
       "    <tr style=\"text-align: right;\">\n",
       "      <th></th>\n",
       "      <th>departamento</th>\n",
       "      <th>provincia</th>\n",
       "      <th>distrito</th>\n",
       "      <th>ano</th>\n",
       "      <th>semana</th>\n",
       "      <th>sexo</th>\n",
       "      <th>enfermedad</th>\n",
       "    </tr>\n",
       "  </thead>\n",
       "  <tbody>\n",
       "    <tr>\n",
       "      <th>225173</th>\n",
       "      <td>SAN MARTIN</td>\n",
       "      <td>EL DORADO</td>\n",
       "      <td>AGUA BLANCA</td>\n",
       "      <td>2014</td>\n",
       "      <td>8</td>\n",
       "      <td>F</td>\n",
       "      <td>DENGUE SIN SEÑALES DE ALARMA</td>\n",
       "    </tr>\n",
       "    <tr>\n",
       "      <th>225176</th>\n",
       "      <td>SAN MARTIN</td>\n",
       "      <td>EL DORADO</td>\n",
       "      <td>AGUA BLANCA</td>\n",
       "      <td>2014</td>\n",
       "      <td>8</td>\n",
       "      <td>F</td>\n",
       "      <td>DENGUE SIN SEÑALES DE ALARMA</td>\n",
       "    </tr>\n",
       "    <tr>\n",
       "      <th>225178</th>\n",
       "      <td>SAN MARTIN</td>\n",
       "      <td>EL DORADO</td>\n",
       "      <td>AGUA BLANCA</td>\n",
       "      <td>2014</td>\n",
       "      <td>8</td>\n",
       "      <td>F</td>\n",
       "      <td>DENGUE SIN SEÑALES DE ALARMA</td>\n",
       "    </tr>\n",
       "    <tr>\n",
       "      <th>225171</th>\n",
       "      <td>SAN MARTIN</td>\n",
       "      <td>EL DORADO</td>\n",
       "      <td>AGUA BLANCA</td>\n",
       "      <td>2014</td>\n",
       "      <td>8</td>\n",
       "      <td>M</td>\n",
       "      <td>DENGUE SIN SEÑALES DE ALARMA</td>\n",
       "    </tr>\n",
       "    <tr>\n",
       "      <th>225172</th>\n",
       "      <td>SAN MARTIN</td>\n",
       "      <td>EL DORADO</td>\n",
       "      <td>AGUA BLANCA</td>\n",
       "      <td>2014</td>\n",
       "      <td>8</td>\n",
       "      <td>M</td>\n",
       "      <td>DENGUE SIN SEÑALES DE ALARMA</td>\n",
       "    </tr>\n",
       "    <tr>\n",
       "      <th>...</th>\n",
       "      <td>...</td>\n",
       "      <td>...</td>\n",
       "      <td>...</td>\n",
       "      <td>...</td>\n",
       "      <td>...</td>\n",
       "      <td>...</td>\n",
       "      <td>...</td>\n",
       "    </tr>\n",
       "    <tr>\n",
       "      <th>226693</th>\n",
       "      <td>TUMBES</td>\n",
       "      <td>CONTRALMIRANTE VILLAR</td>\n",
       "      <td>ZORRITOS</td>\n",
       "      <td>2014</td>\n",
       "      <td>53</td>\n",
       "      <td>M</td>\n",
       "      <td>DENGUE SIN SEÑALES DE ALARMA</td>\n",
       "    </tr>\n",
       "    <tr>\n",
       "      <th>226701</th>\n",
       "      <td>TUMBES</td>\n",
       "      <td>CONTRALMIRANTE VILLAR</td>\n",
       "      <td>ZORRITOS</td>\n",
       "      <td>2014</td>\n",
       "      <td>53</td>\n",
       "      <td>M</td>\n",
       "      <td>DENGUE CON SEÑALES DE ALARMA</td>\n",
       "    </tr>\n",
       "    <tr>\n",
       "      <th>226702</th>\n",
       "      <td>TUMBES</td>\n",
       "      <td>CONTRALMIRANTE VILLAR</td>\n",
       "      <td>ZORRITOS</td>\n",
       "      <td>2014</td>\n",
       "      <td>53</td>\n",
       "      <td>M</td>\n",
       "      <td>DENGUE CON SEÑALES DE ALARMA</td>\n",
       "    </tr>\n",
       "    <tr>\n",
       "      <th>227559</th>\n",
       "      <td>TUMBES</td>\n",
       "      <td>CONTRALMIRANTE VILLAR</td>\n",
       "      <td>ZORRITOS</td>\n",
       "      <td>2014</td>\n",
       "      <td>53</td>\n",
       "      <td>M</td>\n",
       "      <td>DENGUE SIN SEÑALES DE ALARMA</td>\n",
       "    </tr>\n",
       "    <tr>\n",
       "      <th>227560</th>\n",
       "      <td>TUMBES</td>\n",
       "      <td>CONTRALMIRANTE VILLAR</td>\n",
       "      <td>ZORRITOS</td>\n",
       "      <td>2014</td>\n",
       "      <td>53</td>\n",
       "      <td>M</td>\n",
       "      <td>DENGUE SIN SEÑALES DE ALARMA</td>\n",
       "    </tr>\n",
       "  </tbody>\n",
       "</table>\n",
       "<p>453395 rows × 7 columns</p>\n",
       "</div>"
      ],
      "text/plain": [
       "       departamento              provincia     distrito   ano  semana sexo  \\\n",
       "225173   SAN MARTIN              EL DORADO  AGUA BLANCA  2014       8    F   \n",
       "225176   SAN MARTIN              EL DORADO  AGUA BLANCA  2014       8    F   \n",
       "225178   SAN MARTIN              EL DORADO  AGUA BLANCA  2014       8    F   \n",
       "225171   SAN MARTIN              EL DORADO  AGUA BLANCA  2014       8    M   \n",
       "225172   SAN MARTIN              EL DORADO  AGUA BLANCA  2014       8    M   \n",
       "...             ...                    ...          ...   ...     ...  ...   \n",
       "226693       TUMBES  CONTRALMIRANTE VILLAR     ZORRITOS  2014      53    M   \n",
       "226701       TUMBES  CONTRALMIRANTE VILLAR     ZORRITOS  2014      53    M   \n",
       "226702       TUMBES  CONTRALMIRANTE VILLAR     ZORRITOS  2014      53    M   \n",
       "227559       TUMBES  CONTRALMIRANTE VILLAR     ZORRITOS  2014      53    M   \n",
       "227560       TUMBES  CONTRALMIRANTE VILLAR     ZORRITOS  2014      53    M   \n",
       "\n",
       "                          enfermedad  \n",
       "225173  DENGUE SIN SEÑALES DE ALARMA  \n",
       "225176  DENGUE SIN SEÑALES DE ALARMA  \n",
       "225178  DENGUE SIN SEÑALES DE ALARMA  \n",
       "225171  DENGUE SIN SEÑALES DE ALARMA  \n",
       "225172  DENGUE SIN SEÑALES DE ALARMA  \n",
       "...                              ...  \n",
       "226693  DENGUE SIN SEÑALES DE ALARMA  \n",
       "226701  DENGUE CON SEÑALES DE ALARMA  \n",
       "226702  DENGUE CON SEÑALES DE ALARMA  \n",
       "227559  DENGUE SIN SEÑALES DE ALARMA  \n",
       "227560  DENGUE SIN SEÑALES DE ALARMA  \n",
       "\n",
       "[453395 rows x 7 columns]"
      ]
     },
     "execution_count": 25,
     "metadata": {},
     "output_type": "execute_result"
    }
   ],
   "source": [
    "dengueSub[dengueSub.duplicated(keep=False)].sort_values(by=['distrito','semana','sexo'])"
   ]
  },
  {
   "cell_type": "markdown",
   "id": "21051aa5-8d04-4890-9360-09e38a11da4d",
   "metadata": {},
   "source": [
    "To ease the count, we could add a column of ones:"
   ]
  },
  {
   "cell_type": "code",
   "execution_count": 26,
   "id": "5518a9c0-15fd-42cf-b7f9-4d4868d15620",
   "metadata": {},
   "outputs": [
    {
     "data": {
      "text/html": [
       "<div>\n",
       "<style scoped>\n",
       "    .dataframe tbody tr th:only-of-type {\n",
       "        vertical-align: middle;\n",
       "    }\n",
       "\n",
       "    .dataframe tbody tr th {\n",
       "        vertical-align: top;\n",
       "    }\n",
       "\n",
       "    .dataframe thead th {\n",
       "        text-align: right;\n",
       "    }\n",
       "</style>\n",
       "<table border=\"1\" class=\"dataframe\">\n",
       "  <thead>\n",
       "    <tr style=\"text-align: right;\">\n",
       "      <th></th>\n",
       "      <th>departamento</th>\n",
       "      <th>provincia</th>\n",
       "      <th>distrito</th>\n",
       "      <th>ano</th>\n",
       "      <th>semana</th>\n",
       "      <th>sexo</th>\n",
       "      <th>enfermedad</th>\n",
       "      <th>case</th>\n",
       "    </tr>\n",
       "  </thead>\n",
       "  <tbody>\n",
       "    <tr>\n",
       "      <th>0</th>\n",
       "      <td>HUANUCO</td>\n",
       "      <td>LEONCIO PRADO</td>\n",
       "      <td>LUYANDO</td>\n",
       "      <td>2000</td>\n",
       "      <td>47</td>\n",
       "      <td>M</td>\n",
       "      <td>DENGUE SIN SEÑALES DE ALARMA</td>\n",
       "      <td>1</td>\n",
       "    </tr>\n",
       "    <tr>\n",
       "      <th>1</th>\n",
       "      <td>HUANUCO</td>\n",
       "      <td>LEONCIO PRADO</td>\n",
       "      <td>LUYANDO</td>\n",
       "      <td>2000</td>\n",
       "      <td>40</td>\n",
       "      <td>F</td>\n",
       "      <td>DENGUE SIN SEÑALES DE ALARMA</td>\n",
       "      <td>1</td>\n",
       "    </tr>\n",
       "    <tr>\n",
       "      <th>2</th>\n",
       "      <td>HUANUCO</td>\n",
       "      <td>LEONCIO PRADO</td>\n",
       "      <td>JOSE CRESPO Y CASTILLO</td>\n",
       "      <td>2000</td>\n",
       "      <td>48</td>\n",
       "      <td>F</td>\n",
       "      <td>DENGUE SIN SEÑALES DE ALARMA</td>\n",
       "      <td>1</td>\n",
       "    </tr>\n",
       "    <tr>\n",
       "      <th>3</th>\n",
       "      <td>HUANUCO</td>\n",
       "      <td>LEONCIO PRADO</td>\n",
       "      <td>JOSE CRESPO Y CASTILLO</td>\n",
       "      <td>2000</td>\n",
       "      <td>37</td>\n",
       "      <td>F</td>\n",
       "      <td>DENGUE SIN SEÑALES DE ALARMA</td>\n",
       "      <td>1</td>\n",
       "    </tr>\n",
       "    <tr>\n",
       "      <th>4</th>\n",
       "      <td>HUANUCO</td>\n",
       "      <td>LEONCIO PRADO</td>\n",
       "      <td>MARIANO DAMASO BERAUN</td>\n",
       "      <td>2000</td>\n",
       "      <td>42</td>\n",
       "      <td>M</td>\n",
       "      <td>DENGUE SIN SEÑALES DE ALARMA</td>\n",
       "      <td>1</td>\n",
       "    </tr>\n",
       "  </tbody>\n",
       "</table>\n",
       "</div>"
      ],
      "text/plain": [
       "  departamento      provincia                distrito   ano  semana sexo  \\\n",
       "0      HUANUCO  LEONCIO PRADO                 LUYANDO  2000      47    M   \n",
       "1      HUANUCO  LEONCIO PRADO                 LUYANDO  2000      40    F   \n",
       "2      HUANUCO  LEONCIO PRADO  JOSE CRESPO Y CASTILLO  2000      48    F   \n",
       "3      HUANUCO  LEONCIO PRADO  JOSE CRESPO Y CASTILLO  2000      37    F   \n",
       "4      HUANUCO  LEONCIO PRADO   MARIANO DAMASO BERAUN  2000      42    M   \n",
       "\n",
       "                     enfermedad  case  \n",
       "0  DENGUE SIN SEÑALES DE ALARMA     1  \n",
       "1  DENGUE SIN SEÑALES DE ALARMA     1  \n",
       "2  DENGUE SIN SEÑALES DE ALARMA     1  \n",
       "3  DENGUE SIN SEÑALES DE ALARMA     1  \n",
       "4  DENGUE SIN SEÑALES DE ALARMA     1  "
      ]
     },
     "execution_count": 26,
     "metadata": {},
     "output_type": "execute_result"
    }
   ],
   "source": [
    "dengueSub=dengueSub.assign(case=1)\n",
    "dengueSub.head()"
   ]
  },
  {
   "cell_type": "code",
   "execution_count": 27,
   "id": "c2c1b424-c03b-4988-a01f-0f5ab8ae709f",
   "metadata": {},
   "outputs": [
    {
     "data": {
      "text/plain": [
       "enfermedad\n",
       "DENGUE SIN SEÑALES DE ALARMA    444005\n",
       "DENGUE CON SEÑALES DE ALARMA     54984\n",
       "DENGUE GRAVE                      2259\n",
       "Name: count, dtype: int64"
      ]
     },
     "execution_count": 27,
     "metadata": {},
     "output_type": "execute_result"
    }
   ],
   "source": [
    "dengueSub.enfermedad.value_counts()"
   ]
  },
  {
   "cell_type": "code",
   "execution_count": 28,
   "id": "a260260d-0906-406f-95d5-ef1a55bbe649",
   "metadata": {},
   "outputs": [
    {
     "data": {
      "text/plain": [
       "0         SIN_SEÑALES_DE_ALARMA\n",
       "1         SIN_SEÑALES_DE_ALARMA\n",
       "2         SIN_SEÑALES_DE_ALARMA\n",
       "3         SIN_SEÑALES_DE_ALARMA\n",
       "4         SIN_SEÑALES_DE_ALARMA\n",
       "                  ...          \n",
       "501243    SIN_SEÑALES_DE_ALARMA\n",
       "501244    SIN_SEÑALES_DE_ALARMA\n",
       "501245    SIN_SEÑALES_DE_ALARMA\n",
       "501246    SIN_SEÑALES_DE_ALARMA\n",
       "501247    SIN_SEÑALES_DE_ALARMA\n",
       "Name: enfermedad, Length: 501248, dtype: object"
      ]
     },
     "execution_count": 28,
     "metadata": {},
     "output_type": "execute_result"
    }
   ],
   "source": [
    "dengueSub['enfermedad']=dengueSub.enfermedad.str.replace(\"DENGUE \",\"\")\n",
    "dengueSub['enfermedad']=dengueSub.enfermedad.str.replace(\"\\s\",\"_\",regex=True)\n",
    "dengueSub['enfermedad']"
   ]
  },
  {
   "cell_type": "code",
   "execution_count": 29,
   "id": "242e549d-e482-4885-98cd-8e0a3fc99746",
   "metadata": {},
   "outputs": [],
   "source": [
    "# Let's save the current dataframe\n",
    "dengueSub.to_csv(\"dengueSub.csv\",index=False)"
   ]
  },
  {
   "cell_type": "markdown",
   "id": "6bdccaf7-d233-47ab-a931-db10111e141c",
   "metadata": {},
   "source": [
    "At this stage, we should aggregate the data:"
   ]
  },
  {
   "cell_type": "code",
   "execution_count": null,
   "id": "dca65f0a-c5b7-4dc5-9cb1-588ed0869bd4",
   "metadata": {},
   "outputs": [],
   "source": [
    "CasesByWeek=dengueSub.groupby(['departamento', 'provincia', 'distrito','ano', 'semana','sexo','enfermedad']).agg({'case': ['sum']})\n",
    "CasesByWeek"
   ]
  },
  {
   "cell_type": "markdown",
   "id": "47e73926-ca59-4fdb-8f7a-2256fda043fe",
   "metadata": {},
   "source": [
    "We may turn that multi-index structure in a simpler way:"
   ]
  },
  {
   "cell_type": "code",
   "execution_count": null,
   "id": "6ca0ed65-0f17-40ad-a176-2d424cd8b20a",
   "metadata": {},
   "outputs": [],
   "source": [
    "CasesByWeek.columns=['cases'] # new name for the only column\n",
    "\n",
    "CasesByWeek.reset_index(drop=False,inplace=True)\n",
    "\n",
    "CasesByWeek"
   ]
  },
  {
   "cell_type": "markdown",
   "id": "14059cab-f28f-4678-8f2d-af3fcde40cb0",
   "metadata": {},
   "source": [
    "## Reshaping\n",
    "\n",
    "### From Long to Wide\n",
    "\n",
    "The object *CasesByWeek* shows the values in one column, and the other column serve as identifier (an index). Let's make a simple wide version (one index):"
   ]
  },
  {
   "cell_type": "code",
   "execution_count": null,
   "id": "93d2c108-2de7-42a3-85d2-ab37443a4b5f",
   "metadata": {},
   "outputs": [],
   "source": [
    "CasesByWeek.pivot_table(values='cases',\n",
    "                            index=['departamento'],\n",
    "                            columns='enfermedad',aggfunc=\"sum\")"
   ]
  },
  {
   "cell_type": "markdown",
   "id": "e4c17038-e683-46b4-9fab-97e374db2061",
   "metadata": {},
   "source": [
    "The reshaping with two keys:"
   ]
  },
  {
   "cell_type": "code",
   "execution_count": null,
   "id": "abbcb644-fe53-413d-905e-4a90516c6083",
   "metadata": {},
   "outputs": [],
   "source": [
    "CasesByWeek.pivot_table(values='cases',\n",
    "                            index=['departamento', 'provincia'],\n",
    "                            columns='enfermedad',aggfunc=\"sum\")"
   ]
  },
  {
   "cell_type": "markdown",
   "id": "b2a910d1-378d-426e-a984-622f11b2ac19",
   "metadata": {},
   "source": [
    "The reshaping with two keys and two multi columns:"
   ]
  },
  {
   "cell_type": "code",
   "execution_count": null,
   "id": "29839bd9-b8e9-413a-a1ff-cb47945dad6d",
   "metadata": {},
   "outputs": [],
   "source": [
    "CasesByWeek.pivot_table(values='cases',\n",
    "                            index=['departamento', 'provincia'],\n",
    "                            columns=['enfermedad','sexo'],aggfunc=\"sum\")"
   ]
  },
  {
   "cell_type": "markdown",
   "id": "3bb75494-d540-47c1-8cbd-28fa09136fdc",
   "metadata": {},
   "source": [
    "Have you noticed that the more keys the more missing values?\n",
    "\n",
    "Let's keep this last one, and it in a traditional way:"
   ]
  },
  {
   "cell_type": "code",
   "execution_count": null,
   "id": "c17e1bb4-8838-4102-91e8-08178ef5e0d9",
   "metadata": {},
   "outputs": [],
   "source": [
    "CasesByWeek_Wide=CasesByWeek.pivot_table(values='cases',\n",
    "                            index=['departamento', 'provincia'],\n",
    "                            columns=['enfermedad','sexo'],aggfunc=\"sum\").reset_index(drop=False)\n",
    "CasesByWeek_Wide"
   ]
  },
  {
   "cell_type": "markdown",
   "id": "bdcd6c06-a4de-4a5e-99d2-ec3d809c3e0d",
   "metadata": {},
   "source": [
    "We have multi index, let's flatten them:"
   ]
  },
  {
   "cell_type": "code",
   "execution_count": null,
   "id": "cf633865-1e47-4ff2-9818-3dfef0f08c33",
   "metadata": {},
   "outputs": [],
   "source": [
    "CasesByWeek_Wide.columns"
   ]
  },
  {
   "cell_type": "code",
   "execution_count": null,
   "id": "605b2ac3-2631-498f-adfa-85e2aabfa46e",
   "metadata": {},
   "outputs": [],
   "source": [
    "CasesByWeek_Wide.columns.name = None "
   ]
  },
  {
   "cell_type": "markdown",
   "id": "9b8ac7d6-d049-43b1-a047-0e954111e8da",
   "metadata": {},
   "source": [
    "Now, concatenate the tuples:"
   ]
  },
  {
   "cell_type": "code",
   "execution_count": null,
   "id": "f91382de-200f-44ab-9c8c-26c95da62ed1",
   "metadata": {},
   "outputs": [],
   "source": [
    "[\"_\".join(pair) for pair in CasesByWeek_Wide.columns[2:]]"
   ]
  },
  {
   "cell_type": "code",
   "execution_count": null,
   "id": "478e8733",
   "metadata": {
    "scrolled": true
   },
   "outputs": [],
   "source": [
    "# create the newNames\n",
    "newNames=['departamento','provincia']\n",
    "newNames.extend([\"_\".join(pair) for pair in CasesByWeek_Wide.columns[2:]])\n",
    "newNames"
   ]
  },
  {
   "cell_type": "code",
   "execution_count": null,
   "id": "b3074c32-ebe3-48b4-96bb-fdae08c48967",
   "metadata": {},
   "outputs": [],
   "source": [
    "# renaming\n",
    "CasesByWeek_Wide.columns=newNames\n",
    "CasesByWeek_Wide.columns"
   ]
  },
  {
   "cell_type": "markdown",
   "id": "f63559b7-4cce-4c21-ac8f-f4f6f70c239a",
   "metadata": {},
   "source": [
    "We could re format the strings in the columns:"
   ]
  },
  {
   "cell_type": "code",
   "execution_count": null,
   "id": "47698306-87eb-498f-bcd8-1beb2534da60",
   "metadata": {},
   "outputs": [],
   "source": [
    "CasesByWeek_Wide.columns.str.title().str.replace('\\\\s','',regex=True).str.replace(\"Dengue\",\"\",regex=False)"
   ]
  },
  {
   "cell_type": "code",
   "execution_count": null,
   "id": "8cc5b269-b7d6-4eb4-9403-6cfdbff5e5ab",
   "metadata": {},
   "outputs": [],
   "source": [
    "# last step \n",
    "CasesByWeek_Wide.columns=CasesByWeek_Wide.columns.str.title().str.replace('\\\\s','',regex=True).str.replace(\"Dengue\",\"\",regex=False)\n",
    "\n",
    "CasesByWeek_Wide"
   ]
  },
  {
   "cell_type": "markdown",
   "id": "1ea44f80",
   "metadata": {},
   "source": [
    "### Wide to Long\n",
    "\n",
    "We should be able to transfor this wide version into a long one:"
   ]
  },
  {
   "cell_type": "code",
   "execution_count": null,
   "id": "44bfdf52-1f7a-4edb-a978-3915fb39e4b5",
   "metadata": {},
   "outputs": [],
   "source": [
    "# maybe not this one:\n",
    "CasesByWeek_Wide.set_index('Departamento').stack().reset_index()"
   ]
  },
  {
   "cell_type": "code",
   "execution_count": null,
   "id": "6b6db365-ba7a-4ca9-810f-19a65e2bcb6c",
   "metadata": {},
   "outputs": [],
   "source": [
    "CasesByWeek_Long=CasesByWeek_Wide.set_index(['Departamento','Provincia']).stack().reset_index()\n",
    "CasesByWeek_Long"
   ]
  },
  {
   "cell_type": "code",
   "execution_count": null,
   "id": "95196d8a-a546-47ae-8a82-ddccce5cbc68",
   "metadata": {},
   "outputs": [],
   "source": [
    "CasesByWeek_Long.rename(columns={'level_2':'status',0:'cases'},inplace=True)\n",
    "CasesByWeek_Long"
   ]
  }
 ],
 "metadata": {
  "kernelspec": {
   "display_name": "Python 3 (ipykernel)",
   "language": "python",
   "name": "python3"
  },
  "language_info": {
   "codemirror_mode": {
    "name": "ipython",
    "version": 3
   },
   "file_extension": ".py",
   "mimetype": "text/x-python",
   "name": "python",
   "nbconvert_exporter": "python",
   "pygments_lexer": "ipython3",
   "version": "3.11.5"
  }
 },
 "nbformat": 4,
 "nbformat_minor": 5
}
