{
 "cells": [
  {
   "cell_type": "markdown",
   "id": "5cd47911",
   "metadata": {},
   "source": [
    "<img src=\"https://i.imgur.com/6U6q5jQ.png\"/>\n",
    "\n",
    "# Data Reshaping in Python\n",
    "\n",
    "\n",
    "Let me get the data on dengue from [Peru](https://www.datosabiertos.gob.pe/dataset/vigilancia-epidemiol%C3%B3gica-de-dengue):"
   ]
  },
  {
   "cell_type": "code",
   "execution_count": null,
   "id": "932301d0",
   "metadata": {},
   "outputs": [],
   "source": [
    "import pandas as pd\n",
    "import os\n",
    "\n",
    "dengue = pd.read_csv(os.path.join('FilesToReshape' , \"datos_abiertos_vigilancia_dengue.csv\"),on_bad_lines='warn')"
   ]
  },
  {
   "cell_type": "markdown",
   "id": "d7e308d5-7934-4349-8390-6052f346136e",
   "metadata": {},
   "source": [
    "Pandas offers **on_bad_lines='warn'** to let you know if something does not make sense. As you see, you have 8 lines that were omitted. This is what you have now:"
   ]
  },
  {
   "cell_type": "code",
   "execution_count": null,
   "id": "044081dd-8d36-4a91-94fd-8a9d3d176f8a",
   "metadata": {},
   "outputs": [],
   "source": [
    "dengue.shape"
   ]
  },
  {
   "cell_type": "markdown",
   "id": "dc20ca9c-84c1-4fea-b499-7f0918744463",
   "metadata": {},
   "source": [
    "You can try in a different way:"
   ]
  },
  {
   "cell_type": "code",
   "execution_count": null,
   "id": "487d4281-55c3-4224-8785-3850a28d0ffb",
   "metadata": {},
   "outputs": [],
   "source": [
    "dengue2=pd.read_table(os.path.join('FilesToReshape' , \"datos_abiertos_vigilancia_dengue.csv\"))\n",
    "dengue2"
   ]
  },
  {
   "cell_type": "markdown",
   "id": "a76e4b26-c574-488f-b108-f7e61bb1e474",
   "metadata": {},
   "source": [
    "You did not get a warning, and in fact you got 8 more rows. You can try to identify wjta is wrong:"
   ]
  },
  {
   "cell_type": "code",
   "execution_count": null,
   "id": "5397c9a0-d618-452f-a64a-86b06c44518e",
   "metadata": {},
   "outputs": [],
   "source": [
    "dengue2.iloc[87867:87873,0]"
   ]
  },
  {
   "cell_type": "code",
   "execution_count": null,
   "id": "bf8d563a-62d6-4e1b-93e3-1b935fc19cae",
   "metadata": {},
   "outputs": [],
   "source": [
    "# use that weird text:\n",
    "dengue2[dengue2.iloc[:,0].str.contains(\"I\\\\,II\",regex=False)]"
   ]
  },
  {
   "cell_type": "markdown",
   "id": "f0ac679d-c5ed-4599-a18f-ea1e387d8d3f",
   "metadata": {},
   "source": [
    "I have prepared a cleaner version:"
   ]
  },
  {
   "cell_type": "code",
   "execution_count": null,
   "id": "ee99f082-ff50-43af-817e-f048fc8b792d",
   "metadata": {},
   "outputs": [],
   "source": [
    "dengue = pd.read_csv(os.path.join('FilesToReshape' , \"datos_abiertos_vigilancia_dengue_ok.csv\"))\n",
    "dengue"
   ]
  },
  {
   "cell_type": "markdown",
   "id": "dc50bcd5-d47c-4ecc-b32e-d265063d361f",
   "metadata": {},
   "source": [
    "Let me select a subset of columns:"
   ]
  },
  {
   "cell_type": "code",
   "execution_count": null,
   "id": "4906ba1e-3897-459b-963c-96d9744fdfaf",
   "metadata": {},
   "outputs": [],
   "source": [
    "toSelect=['departamento', 'provincia', 'distrito','ano', 'semana', 'sexo','enfermedad']\n",
    "dengue=dengue[toSelect]\n",
    "dengue.head()"
   ]
  },
  {
   "cell_type": "markdown",
   "id": "646e5d34-b01e-41ef-ba6a-44bf23907524",
   "metadata": {},
   "source": [
    "As we know there were issues with text, let's check department values:"
   ]
  },
  {
   "cell_type": "code",
   "execution_count": null,
   "id": "3e8242bd-4acf-4097-87c7-a9e545fa891f",
   "metadata": {},
   "outputs": [],
   "source": [
    "dengue.departamento.value_counts().index.to_list()"
   ]
  },
  {
   "cell_type": "markdown",
   "id": "b4a6673d-5266-446d-884e-e37fc29b5fbe",
   "metadata": {},
   "source": [
    "Let's replace that cell value in all the data frame:  "
   ]
  },
  {
   "cell_type": "code",
   "execution_count": null,
   "id": "95905c79-13fb-4c30-9d81-2066ba24a62d",
   "metadata": {},
   "outputs": [],
   "source": [
    "dengue.replace('\\\\N',None,regex=False,inplace=True)"
   ]
  },
  {
   "cell_type": "markdown",
   "id": "b23427ff-782b-4b8b-88bf-e048040b4b0e",
   "metadata": {},
   "source": [
    "Now, we keep the complete data:"
   ]
  },
  {
   "cell_type": "code",
   "execution_count": null,
   "id": "271c8371-b39f-4a70-a692-0cc55912cd7d",
   "metadata": {},
   "outputs": [],
   "source": [
    "dengue.dropna(how='any',inplace=True,ignore_index=True)"
   ]
  },
  {
   "cell_type": "code",
   "execution_count": null,
   "id": "e005599a-dd3a-4049-93e2-0a46ce96e32f",
   "metadata": {},
   "outputs": [],
   "source": [
    "dengue.info()"
   ]
  },
  {
   "cell_type": "markdown",
   "id": "052514b6-2f28-498c-a3af-1f7d60c83406",
   "metadata": {},
   "source": [
    "The data is about people, but since there is no identifier for a person, it is possible that rows are repeated:"
   ]
  },
  {
   "cell_type": "code",
   "execution_count": null,
   "id": "f9479282-8d6c-4d96-8307-f625ade7a4a1",
   "metadata": {},
   "outputs": [],
   "source": [
    "dengue[dengue.duplicated(keep=False)].sort_values(by=['distrito','semana','sexo'])"
   ]
  },
  {
   "cell_type": "markdown",
   "id": "21051aa5-8d04-4890-9360-09e38a11da4d",
   "metadata": {},
   "source": [
    "To ease the count, we could add a column of ones:"
   ]
  },
  {
   "cell_type": "code",
   "execution_count": null,
   "id": "5518a9c0-15fd-42cf-b7f9-4d4868d15620",
   "metadata": {},
   "outputs": [],
   "source": [
    "dengue=dengue.assign(case=1)\n",
    "dengue"
   ]
  },
  {
   "cell_type": "markdown",
   "id": "6bdccaf7-d233-47ab-a931-db10111e141c",
   "metadata": {},
   "source": [
    "At this stage, we should aggregate the data:"
   ]
  },
  {
   "cell_type": "code",
   "execution_count": null,
   "id": "dca65f0a-c5b7-4dc5-9cb1-588ed0869bd4",
   "metadata": {},
   "outputs": [],
   "source": [
    "CasesByWeek=dengue.groupby(['departamento', 'provincia', 'distrito','ano', 'semana','sexo','enfermedad']).agg({'case': ['sum']})\n",
    "CasesByWeek"
   ]
  },
  {
   "cell_type": "markdown",
   "id": "47e73926-ca59-4fdb-8f7a-2256fda043fe",
   "metadata": {},
   "source": [
    "We may turn that multi-index structure in a simpler way:"
   ]
  },
  {
   "cell_type": "code",
   "execution_count": null,
   "id": "6ca0ed65-0f17-40ad-a176-2d424cd8b20a",
   "metadata": {},
   "outputs": [],
   "source": [
    "CasesByWeek.columns=['cases'] # new name for the only column\n",
    "\n",
    "CasesByWeek.reset_index(drop=False,inplace=True)\n",
    "\n",
    "CasesByWeek"
   ]
  },
  {
   "cell_type": "markdown",
   "id": "14059cab-f28f-4678-8f2d-af3fcde40cb0",
   "metadata": {},
   "source": [
    "## Reshaping\n",
    "\n",
    "### From Long to Wide\n",
    "\n",
    "The object *CasesByWeek* shows the values in one column, and the other column serve as identifier (an index). Let's make a simple wide version (one index):"
   ]
  },
  {
   "cell_type": "code",
   "execution_count": null,
   "id": "93d2c108-2de7-42a3-85d2-ab37443a4b5f",
   "metadata": {},
   "outputs": [],
   "source": [
    "CasesByWeek.pivot_table(values='cases',\n",
    "                            index=['departamento'],\n",
    "                            columns='enfermedad',aggfunc=\"sum\")"
   ]
  },
  {
   "cell_type": "markdown",
   "id": "e4c17038-e683-46b4-9fab-97e374db2061",
   "metadata": {},
   "source": [
    "The reshaping with two keys:"
   ]
  },
  {
   "cell_type": "code",
   "execution_count": null,
   "id": "abbcb644-fe53-413d-905e-4a90516c6083",
   "metadata": {},
   "outputs": [],
   "source": [
    "CasesByWeek.pivot_table(values='cases',\n",
    "                            index=['departamento', 'provincia'],\n",
    "                            columns='enfermedad',aggfunc=\"sum\")"
   ]
  },
  {
   "cell_type": "markdown",
   "id": "b2a910d1-378d-426e-a984-622f11b2ac19",
   "metadata": {},
   "source": [
    "The reshaping with two keys and two multi columns:"
   ]
  },
  {
   "cell_type": "code",
   "execution_count": null,
   "id": "29839bd9-b8e9-413a-a1ff-cb47945dad6d",
   "metadata": {},
   "outputs": [],
   "source": [
    "CasesByWeek.pivot_table(values='cases',\n",
    "                            index=['departamento', 'provincia'],\n",
    "                            columns=['enfermedad','sexo'],aggfunc=\"sum\")"
   ]
  },
  {
   "cell_type": "markdown",
   "id": "3bb75494-d540-47c1-8cbd-28fa09136fdc",
   "metadata": {},
   "source": [
    "Have you noticed that the more keys the more missing values?\n",
    "\n",
    "Let's keep this last one, and it in a traditional way:"
   ]
  },
  {
   "cell_type": "code",
   "execution_count": null,
   "id": "c17e1bb4-8838-4102-91e8-08178ef5e0d9",
   "metadata": {},
   "outputs": [],
   "source": [
    "CasesByWeek_Wide=CasesByWeek.pivot_table(values='cases',\n",
    "                            index=['departamento', 'provincia'],\n",
    "                            columns=['enfermedad','sexo'],aggfunc=\"sum\").reset_index(drop=False)\n",
    "CasesByWeek_Wide"
   ]
  },
  {
   "cell_type": "markdown",
   "id": "bdcd6c06-a4de-4a5e-99d2-ec3d809c3e0d",
   "metadata": {},
   "source": [
    "We have multi index, let's flatten them:"
   ]
  },
  {
   "cell_type": "code",
   "execution_count": null,
   "id": "cf633865-1e47-4ff2-9818-3dfef0f08c33",
   "metadata": {},
   "outputs": [],
   "source": [
    "CasesByWeek_Wide.columns"
   ]
  },
  {
   "cell_type": "code",
   "execution_count": null,
   "id": "605b2ac3-2631-498f-adfa-85e2aabfa46e",
   "metadata": {},
   "outputs": [],
   "source": [
    "CasesByWeek_Wide.columns.name = None "
   ]
  },
  {
   "cell_type": "markdown",
   "id": "9b8ac7d6-d049-43b1-a047-0e954111e8da",
   "metadata": {},
   "source": [
    "Now, concatenate the tuples:"
   ]
  },
  {
   "cell_type": "code",
   "execution_count": null,
   "id": "f91382de-200f-44ab-9c8c-26c95da62ed1",
   "metadata": {},
   "outputs": [],
   "source": [
    "[\"_\".join(pair) for pair in CasesByWeek_Wide.columns[2:]]"
   ]
  },
  {
   "cell_type": "code",
   "execution_count": null,
   "id": "478e8733",
   "metadata": {
    "scrolled": true
   },
   "outputs": [],
   "source": [
    "# create the newNames\n",
    "newNames=['departamento','provincia']\n",
    "newNames.extend([\"_\".join(pair) for pair in CasesByWeek_Wide.columns[2:]])\n",
    "newNames"
   ]
  },
  {
   "cell_type": "code",
   "execution_count": null,
   "id": "b3074c32-ebe3-48b4-96bb-fdae08c48967",
   "metadata": {},
   "outputs": [],
   "source": [
    "# renaming\n",
    "CasesByWeek_Wide.columns=newNames\n",
    "CasesByWeek_Wide.columns"
   ]
  },
  {
   "cell_type": "markdown",
   "id": "f63559b7-4cce-4c21-ac8f-f4f6f70c239a",
   "metadata": {},
   "source": [
    "We could re format the strings in the columns:"
   ]
  },
  {
   "cell_type": "code",
   "execution_count": null,
   "id": "47698306-87eb-498f-bcd8-1beb2534da60",
   "metadata": {},
   "outputs": [],
   "source": [
    "CasesByWeek_Wide.columns.str.title().str.replace('\\\\s','',regex=True).str.replace(\"Dengue\",\"\",regex=False)"
   ]
  },
  {
   "cell_type": "code",
   "execution_count": null,
   "id": "8cc5b269-b7d6-4eb4-9403-6cfdbff5e5ab",
   "metadata": {},
   "outputs": [],
   "source": [
    "# last step \n",
    "CasesByWeek_Wide.columns=CasesByWeek_Wide.columns.str.title().str.replace('\\\\s','',regex=True).str.replace(\"Dengue\",\"\",regex=False)\n",
    "\n",
    "CasesByWeek_Wide"
   ]
  },
  {
   "cell_type": "markdown",
   "id": "1ea44f80",
   "metadata": {},
   "source": [
    "### Wide to Long\n",
    "\n",
    "We should be able to transfor this wide version into a long one:"
   ]
  },
  {
   "cell_type": "code",
   "execution_count": null,
   "id": "44bfdf52-1f7a-4edb-a978-3915fb39e4b5",
   "metadata": {},
   "outputs": [],
   "source": [
    "# maybe not this one:\n",
    "CasesByWeek_Wide.set_index('Departamento').stack().reset_index()"
   ]
  },
  {
   "cell_type": "code",
   "execution_count": null,
   "id": "6b6db365-ba7a-4ca9-810f-19a65e2bcb6c",
   "metadata": {},
   "outputs": [],
   "source": [
    "CasesByWeek_Long=CasesByWeek_Wide.set_index(['Departamento','Provincia']).stack().reset_index()\n",
    "CasesByWeek_Long"
   ]
  },
  {
   "cell_type": "code",
   "execution_count": null,
   "id": "95196d8a-a546-47ae-8a82-ddccce5cbc68",
   "metadata": {},
   "outputs": [],
   "source": [
    "CasesByWeek_Long.rename(columns={'level_2':'status',0:'cases'},inplace=True)\n",
    "CasesByWeek_Long"
   ]
  }
 ],
 "metadata": {
  "kernelspec": {
   "display_name": "Python 3 (ipykernel)",
   "language": "python",
   "name": "python3"
  },
  "language_info": {
   "codemirror_mode": {
    "name": "ipython",
    "version": 3
   },
   "file_extension": ".py",
   "mimetype": "text/x-python",
   "name": "python",
   "nbconvert_exporter": "python",
   "pygments_lexer": "ipython3",
   "version": "3.12.0"
  }
 },
 "nbformat": 4,
 "nbformat_minor": 5
}
