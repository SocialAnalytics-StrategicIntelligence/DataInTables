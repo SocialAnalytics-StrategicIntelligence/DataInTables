{
 "cells": [
  {
   "cell_type": "markdown",
   "id": "5cd47911",
   "metadata": {},
   "source": [
    "<img src=\"https://i.imgur.com/6U6q5jQ.png\"/>\n",
    "\n",
    "# Data Aggregating in Python\n",
    "\n",
    "\n",
    "Sometimes, you need to summarize the unit of analysis at a higher level. This is when you need the aggregating capabilities in Pandas.\n",
    "\n",
    "We will use data from here:"
   ]
  },
  {
   "cell_type": "code",
   "execution_count": null,
   "id": "06ad626f",
   "metadata": {},
   "outputs": [],
   "source": [
    "%%html\n",
    "<iframe width=\"800\" height=\"500\" src=\"https://covid.saude.gov.br/\" allowfullscreen></iframe>\n"
   ]
  },
  {
   "cell_type": "markdown",
   "id": "15c86618",
   "metadata": {},
   "source": [
    "I downloaded the data for 2022 in the _FilesToAggregate_ folder:"
   ]
  },
  {
   "cell_type": "code",
   "execution_count": null,
   "id": "932301d0",
   "metadata": {},
   "outputs": [],
   "source": [
    "import pandas as pd\n",
    "import glob\n",
    "import os\n",
    "\n",
    "all_filenames = glob.glob(os.path.join('FilesToAggregate' , \"*.csv\"))\n",
    "all_filenames"
   ]
  },
  {
   "cell_type": "code",
   "execution_count": null,
   "id": "cd62c423-a8ec-4a22-95bd-b9571de80831",
   "metadata": {},
   "outputs": [],
   "source": [
    "pd.read_csv(all_filenames[0]).head()"
   ]
  },
  {
   "cell_type": "code",
   "execution_count": null,
   "id": "10217bf7-856a-4682-8392-27adbf9c02ad",
   "metadata": {},
   "outputs": [],
   "source": [
    "pd.read_csv(all_filenames[0],sep=\";\").head()"
   ]
  },
  {
   "cell_type": "code",
   "execution_count": null,
   "id": "71c063b9",
   "metadata": {},
   "outputs": [],
   "source": [
    "list_dfs=[]\n",
    "for aName in all_filenames:\n",
    "    list_dfs.append(pd.read_csv(aName,sep=\";\"))"
   ]
  },
  {
   "cell_type": "markdown",
   "id": "cebdf4d3",
   "metadata": {},
   "source": [
    "Let's check the names:"
   ]
  },
  {
   "cell_type": "code",
   "execution_count": null,
   "id": "2fa27dfa",
   "metadata": {},
   "outputs": [],
   "source": [
    "for aDF in list_dfs:\n",
    "    print(aDF.columns,aDF.shape)"
   ]
  },
  {
   "cell_type": "code",
   "execution_count": null,
   "id": "287afed8-0350-4289-9565-4e8a9c8311c2",
   "metadata": {},
   "outputs": [],
   "source": [
    "pd.concat(list_dfs,axis=0,ignore_index=True)"
   ]
  },
  {
   "cell_type": "code",
   "execution_count": null,
   "id": "c01c2bc1",
   "metadata": {},
   "outputs": [],
   "source": [
    "# then\n",
    "covid=pd.concat(list_dfs,ignore_index=True,copy=False)"
   ]
  },
  {
   "cell_type": "markdown",
   "id": "c7c30023",
   "metadata": {},
   "source": [
    "Let's keep the columns needed:"
   ]
  },
  {
   "cell_type": "code",
   "execution_count": null,
   "id": "49ca0b68",
   "metadata": {},
   "outputs": [],
   "source": [
    "toSelect=['regiao', 'estado', 'municipio','data', 'semanaEpi','casosNovos', 'obitosNovos']\n",
    "covid=covid[toSelect]"
   ]
  },
  {
   "cell_type": "code",
   "execution_count": null,
   "id": "ec5f33df",
   "metadata": {},
   "outputs": [],
   "source": [
    "# you have the data at the municipal level\n",
    "\n",
    "covid.head()"
   ]
  },
  {
   "cell_type": "code",
   "execution_count": null,
   "id": "3903741e-b432-4b0f-ab5d-a9270cb2a9f3",
   "metadata": {},
   "outputs": [],
   "source": [
    "# check\n",
    "covid.info()"
   ]
  },
  {
   "cell_type": "markdown",
   "id": "124141b9-38d2-4d83-b59b-b5b4776ff489",
   "metadata": {},
   "source": [
    "Let's keep complete data:"
   ]
  },
  {
   "cell_type": "code",
   "execution_count": null,
   "id": "eb4af4d6-48df-410b-b95b-122c6a2bceae",
   "metadata": {},
   "outputs": [],
   "source": [
    "covid.dropna(how='any',inplace=True)\n",
    "covid.info()"
   ]
  },
  {
   "cell_type": "markdown",
   "id": "3780d836-db6f-4e40-932b-28f7eabe4107",
   "metadata": {},
   "source": [
    "We have enough data, let's see different aggregation alternatives:"
   ]
  },
  {
   "cell_type": "code",
   "execution_count": null,
   "id": "670aeab4",
   "metadata": {},
   "outputs": [],
   "source": [
    "# sum of cases by estado\n",
    "casesSumByState=covid.groupby('estado').agg({'casosNovos': 'sum'})\n",
    "casesSumByState"
   ]
  },
  {
   "cell_type": "code",
   "execution_count": null,
   "id": "b0a89339",
   "metadata": {},
   "outputs": [],
   "source": [
    "# sum of cases by estado and week\n",
    "casesSumByStateAndWeek=covid.groupby(['estado','semanaEpi']).agg({'casosNovos': 'sum'})\n",
    "casesSumByStateAndWeek"
   ]
  },
  {
   "cell_type": "code",
   "execution_count": null,
   "id": "6d3f6717",
   "metadata": {},
   "outputs": [],
   "source": [
    "# sum and mean of cases by estado and week\n",
    "casesSumAndMeanByStateAndWeek=covid.groupby(['estado','semanaEpi']).agg({'casosNovos': ['sum','mean']})\n",
    "casesSumAndMeanByStateAndWeek"
   ]
  },
  {
   "cell_type": "code",
   "execution_count": null,
   "id": "3b031585",
   "metadata": {},
   "outputs": [],
   "source": [
    "# sum of cases and deaths by estado\n",
    "CasesAndDeathsByState=covid.groupby('estado').agg({'casosNovos': 'sum', 'obitosNovos': 'sum'})\n",
    "CasesAndDeathsByState"
   ]
  },
  {
   "cell_type": "code",
   "execution_count": null,
   "id": "602824d2-9386-4bad-89bf-a138077bc83e",
   "metadata": {},
   "outputs": [],
   "source": [
    "# sum and mean of cases and deaths by estado and week\n",
    "CasesAndDeathsMeanAndSumByStateAndWeek=covid.groupby(['estado','semanaEpi']).agg({'casosNovos': ['sum','mean'],'obitosNovos':['sum','mean']})\n",
    "CasesAndDeathsMeanAndSumByStateAndWeek"
   ]
  },
  {
   "cell_type": "markdown",
   "id": "1ab1f189-4079-4318-8967-40c6cceed083",
   "metadata": {},
   "source": [
    "In all the previous cases, the aggregating category is the new index. In general, you can have a traditional table like this:"
   ]
  },
  {
   "cell_type": "code",
   "execution_count": null,
   "id": "acbb1569-53c6-4b90-a94f-3476429fc83b",
   "metadata": {},
   "outputs": [],
   "source": [
    "CasesAndDeathsByState.reset_index()"
   ]
  },
  {
   "cell_type": "markdown",
   "id": "202dfb0c-f38c-4a71-8a95-eec150b94eee",
   "metadata": {},
   "source": [
    "However, in case of **multi index** that could be more challenging:"
   ]
  },
  {
   "cell_type": "code",
   "execution_count": null,
   "id": "ce30b0d0-c27d-428a-8f2c-0f90506cac61",
   "metadata": {},
   "outputs": [],
   "source": [
    "CasesAndDeathsMeanAndSumByStateAndWeek.head()"
   ]
  },
  {
   "cell_type": "code",
   "execution_count": null,
   "id": "944d6f4d-d393-4e2a-a56b-3366900af2ee",
   "metadata": {},
   "outputs": [],
   "source": [
    "CasesAndDeathsMeanAndSumByStateAndWeek.columns"
   ]
  },
  {
   "cell_type": "code",
   "execution_count": null,
   "id": "5ed2e157-9c44-473e-82de-fe743e054ef5",
   "metadata": {},
   "outputs": [],
   "source": [
    "newColumns=[\"_\".join(levels) for levels in CasesAndDeathsMeanAndSumByStateAndWeek.columns]\n",
    "newColumns"
   ]
  },
  {
   "cell_type": "code",
   "execution_count": null,
   "id": "898dd887-1004-45d2-a6de-d6629ee37169",
   "metadata": {},
   "outputs": [],
   "source": [
    "CasesAndDeathsMeanAndSumByStateAndWeek.columns=newColumns"
   ]
  },
  {
   "cell_type": "code",
   "execution_count": null,
   "id": "d0acfbf6-676c-4f9b-9ca6-8d76fab72388",
   "metadata": {},
   "outputs": [],
   "source": [
    "CasesAndDeathsMeanAndSumByStateAndWeek"
   ]
  },
  {
   "cell_type": "code",
   "execution_count": null,
   "id": "a2d2b800-d864-413d-88d3-023fa3522398",
   "metadata": {},
   "outputs": [],
   "source": [
    "CasesAndDeathsMeanAndSumByStateAndWeek.reset_index(inplace=True)\n",
    "CasesAndDeathsMeanAndSumByStateAndWeek"
   ]
  }
 ],
 "metadata": {
  "kernelspec": {
   "display_name": "Python 3 (ipykernel)",
   "language": "python",
   "name": "python3"
  },
  "language_info": {
   "codemirror_mode": {
    "name": "ipython",
    "version": 3
   },
   "file_extension": ".py",
   "mimetype": "text/x-python",
   "name": "python",
   "nbconvert_exporter": "python",
   "pygments_lexer": "ipython3",
   "version": "3.11.5"
  }
 },
 "nbformat": 4,
 "nbformat_minor": 5
}
