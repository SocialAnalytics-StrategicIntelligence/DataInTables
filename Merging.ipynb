{
 "cells": [
  {
   "cell_type": "markdown",
   "id": "a8ae6a60",
   "metadata": {},
   "source": [
    "<img src=\"https://i.imgur.com/6U6q5jQ.png\"/>\n",
    "\n",
    "# Merging Data Frames in Python\n",
    "\n",
    "The Merging stage is an operation at the data frame level (not a cell operation). \n",
    "\n",
    "The merging process combines **TWO** data frames, if and only if, they each have a common column whose cell values represent the same, and are written exactly the same. Unmatched values will not be part of the output. If you have messy data, you need to clean at least those **key** columns for the match to work.\n",
    "\n",
    "Let's see some data:"
   ]
  },
  {
   "cell_type": "code",
   "execution_count": null,
   "id": "11328172",
   "metadata": {},
   "outputs": [],
   "source": [
    "import pandas as pd\n",
    "import os\n",
    "\n",
    "\n",
    "allFree=pd.read_pickle(\"https://github.com/PythonVersusR/OperationsFormatting/raw/main/DataFiles/allFree.pkl\")  \n",
    "allFree"
   ]
  },
  {
   "cell_type": "markdown",
   "id": "98e3f157",
   "metadata": {},
   "source": [
    "Now, let's bring this other one:"
   ]
  },
  {
   "cell_type": "code",
   "execution_count": null,
   "id": "47ebc73b",
   "metadata": {},
   "outputs": [],
   "source": [
    "%%html\n",
    "\n",
    "<iframe width=\"700\" height=\"300\" src=\"https://www.cia.gov/the-world-factbook/field/military-expenditures/country-comparison\" allowfullscreen></iframe>\n"
   ]
  },
  {
   "cell_type": "code",
   "execution_count": null,
   "id": "4f3620e5",
   "metadata": {},
   "outputs": [],
   "source": [
    "linkCIA=\"https://www.cia.gov/the-world-factbook/field/military-expenditures/country-comparison\"\n",
    "mil=pd.read_html(linkCIA,flavor='bs4')\n",
    "# how many\n",
    "len(mil)"
   ]
  },
  {
   "cell_type": "code",
   "execution_count": null,
   "id": "831146bb",
   "metadata": {
    "scrolled": true
   },
   "outputs": [],
   "source": [
    "# the only one\n",
    "mil[0]"
   ]
  },
  {
   "cell_type": "markdown",
   "id": "cbf7f3da",
   "metadata": {},
   "source": [
    "Let's check format:"
   ]
  },
  {
   "cell_type": "code",
   "execution_count": null,
   "id": "a0d975cd",
   "metadata": {},
   "outputs": [],
   "source": [
    "mil[0].info()"
   ]
  },
  {
   "cell_type": "markdown",
   "id": "6b76b02e",
   "metadata": {},
   "source": [
    "Let's keep the columns we need from the data frame:"
   ]
  },
  {
   "cell_type": "code",
   "execution_count": null,
   "id": "bd1a13a5",
   "metadata": {},
   "outputs": [],
   "source": [
    "mil[0]=mil[0].iloc[:,[1,2]]\n",
    "mil[0].head()"
   ]
  },
  {
   "cell_type": "markdown",
   "id": "6d50990f",
   "metadata": {},
   "source": [
    "Let's create a new data frame, while renaming the second column with a simpler name:"
   ]
  },
  {
   "cell_type": "code",
   "execution_count": null,
   "id": "8c0a67af",
   "metadata": {},
   "outputs": [],
   "source": [
    "mili=mil[0].rename(columns={\"% of GDP\": \"mili_pctGDP\"})\n",
    "mili.head()"
   ]
  },
  {
   "cell_type": "markdown",
   "id": "3c92f5bc",
   "metadata": {},
   "source": [
    "## Deciding keys\n",
    "\n",
    "Obviously, _Country_:\n"
   ]
  },
  {
   "cell_type": "code",
   "execution_count": null,
   "id": "d344e25b-fa73-4ec8-89c6-d56b19fac297",
   "metadata": {},
   "outputs": [],
   "source": [
    "mili.columns, allFree.columns"
   ]
  },
  {
   "cell_type": "code",
   "execution_count": null,
   "id": "0d8b1f70-5f95-48db-afc7-060296b4d266",
   "metadata": {},
   "outputs": [],
   "source": [
    "#explore\n",
    "allFree.Country.sort_values(),mili.Country.sort_values()"
   ]
  },
  {
   "cell_type": "markdown",
   "id": "beda3e83-bfcd-4d78-b038-a16d0a1d2c68",
   "metadata": {},
   "source": [
    "We should _normalize_ the **key** columns:"
   ]
  },
  {
   "cell_type": "code",
   "execution_count": null,
   "id": "c09bc4d8",
   "metadata": {},
   "outputs": [],
   "source": [
    "mili['Country']=mili.Country.str.upper()"
   ]
  },
  {
   "cell_type": "markdown",
   "id": "ea3b0179-c967-443e-833f-2d61fd22bee6",
   "metadata": {},
   "source": [
    "## Basic merge\n",
    "\n",
    "The basic merge works like this:"
   ]
  },
  {
   "cell_type": "code",
   "execution_count": null,
   "id": "c5f7ede2-078f-444c-bf0e-0abdae6a9d7e",
   "metadata": {},
   "outputs": [],
   "source": [
    "# Which country has more rows?\n",
    "mili.shape[0],allFree.shape[0]"
   ]
  },
  {
   "cell_type": "markdown",
   "id": "2dcaae65-6db8-4c4f-8561-f246a1efb726",
   "metadata": {},
   "source": [
    "When row counts differ, you can expect the merge will give at most the lowest amount of rows between those two. Let's see:"
   ]
  },
  {
   "cell_type": "code",
   "execution_count": null,
   "id": "f14a3bec-9533-458a-8327-72ec5d9be0c3",
   "metadata": {},
   "outputs": [],
   "source": [
    "mili.merge(allFree,left_on='Country',right_on='Country').shape[0]"
   ]
  },
  {
   "cell_type": "markdown",
   "id": "d4a69c14",
   "metadata": {},
   "source": [
    "## Fuzzy matching\n",
    "\n",
    "Currently, that is the count of rows in the merge. Let's explore the unmatched keys:"
   ]
  },
  {
   "cell_type": "code",
   "execution_count": null,
   "id": "e696df55",
   "metadata": {},
   "outputs": [],
   "source": [
    "InMiliNotInFree=list(set(mili.Country)-set(allFree.Country))\n",
    "sorted(InMiliNotInFree)"
   ]
  },
  {
   "cell_type": "code",
   "execution_count": null,
   "id": "ca11a9dd",
   "metadata": {},
   "outputs": [],
   "source": [
    "InFreeUnmatched=list(set(allFree.Country)-set(mili.Country))\n",
    "sorted(InFreeUnmatched)"
   ]
  },
  {
   "cell_type": "markdown",
   "id": "adac97cb-cce2-40ef-a9a8-68668f34244b",
   "metadata": {},
   "source": [
    "Let's try to match strings that are NOT equally written. You need to previously install:\n",
    "* thefuzz (use _pip install thefuzz_)\n",
    "* python-Levenshtein  (use _pip python-Levenshtein_)"
   ]
  },
  {
   "cell_type": "code",
   "execution_count": null,
   "id": "7b0f210e",
   "metadata": {},
   "outputs": [],
   "source": [
    "from thefuzz import process\n",
    "\n",
    "[(country, process.extractOne(country,InMiliNotInFree )) for country in sorted(InFreeUnmatched)]"
   ]
  },
  {
   "cell_type": "markdown",
   "id": "1543bd50-f1ba-4499-9c08-03fba5d03bf2",
   "metadata": {},
   "source": [
    "This exploration suggest we make changes manually first:"
   ]
  },
  {
   "cell_type": "code",
   "execution_count": null,
   "id": "9a9fc5fb-b015-47ea-a854-8971ef0cce59",
   "metadata": {},
   "outputs": [],
   "source": [
    "#allFree=allFree[allFree.Country != \"NORTH KOREA\"] # bye no\n",
    "manualFree={'REPUBLIC OF THE CONGO':'CONGO, REPUBLIC OF THE','CZECH REPUBLIC':'CZECHIA'}\n",
    "allFree.Country.replace(manualFree,inplace=True)\n",
    "\n",
    "#\n",
    "InMiliNotInFree=list(set(mili.Country)-set(allFree.Country))\n",
    "InFreeUnmatched=list(set(allFree.Country)-set(mili.Country))\n",
    "\n",
    "# \n",
    "[(country, process.extractOne(country,InMiliNotInFree )) for country in sorted(InFreeUnmatched)]"
   ]
  },
  {
   "cell_type": "markdown",
   "id": "b0feece1-b448-47a4-bbcc-2bb50938eb54",
   "metadata": {},
   "source": [
    "Notice:"
   ]
  },
  {
   "cell_type": "code",
   "execution_count": null,
   "id": "f838f3ab-2ec3-4bee-8762-801a51810123",
   "metadata": {},
   "outputs": [],
   "source": [
    "[(country, process.extractOne(country,InMiliNotInFree )) for country in sorted(InFreeUnmatched) \n",
    " if process.extractOne(country,InMiliNotInFree)[1]>=90]"
   ]
  },
  {
   "cell_type": "code",
   "execution_count": null,
   "id": "b1580e4d-ad53-4c31-8123-4e4bc5337a6d",
   "metadata": {},
   "outputs": [],
   "source": [
    "# then:\n",
    "fuzzyFree={country: process.extractOne(country,InMiliNotInFree )[0] for country in sorted(InFreeUnmatched) \n",
    " if process.extractOne(country,InMiliNotInFree)[1]>=90}\n",
    "fuzzyFree"
   ]
  },
  {
   "cell_type": "markdown",
   "id": "33e13fd7-7b11-4f05-8472-f0fb689e234c",
   "metadata": {},
   "source": [
    "Apparently, that was all:"
   ]
  },
  {
   "cell_type": "code",
   "execution_count": null,
   "id": "6722e06d-4948-4d47-9664-d0ced6d15bec",
   "metadata": {},
   "outputs": [],
   "source": [
    "allFree.Country.replace(fuzzyFree,inplace=True)\n",
    "\n",
    "#\n",
    "InMiliNotInFree=list(set(mili.Country)-set(allFree.Country))\n",
    "InFreeUnmatched=list(set(allFree.Country)-set(mili.Country))\n",
    "\n",
    "# \n",
    "[(country, process.extractOne(country,InMiliNotInFree )) for country in sorted(InFreeUnmatched)]"
   ]
  },
  {
   "cell_type": "markdown",
   "id": "69a14d43-4c01-40f4-9040-306d885b94cd",
   "metadata": {},
   "source": [
    "You can also try:"
   ]
  },
  {
   "cell_type": "code",
   "execution_count": null,
   "id": "4e8127ad-7181-4dda-a5dd-13a18ff54555",
   "metadata": {},
   "outputs": [],
   "source": [
    "#opposite search\n",
    "[(country, process.extractOne(country, InFreeUnmatched)) for country in sorted(InMiliNotInFree)]"
   ]
  },
  {
   "cell_type": "markdown",
   "id": "87e02d84",
   "metadata": {},
   "source": [
    "We reached our best situation, then:"
   ]
  },
  {
   "cell_type": "code",
   "execution_count": null,
   "id": "13344209",
   "metadata": {},
   "outputs": [],
   "source": [
    "# in case you have different names in the matching columns:\n",
    "freemili=allFree.merge(mili,left_on='Country', right_on='Country')\n",
    "freemili"
   ]
  },
  {
   "cell_type": "markdown",
   "id": "d16bf289",
   "metadata": {},
   "source": [
    "We can save this for R and Python :"
   ]
  },
  {
   "cell_type": "code",
   "execution_count": null,
   "id": "07bdcf8d",
   "metadata": {},
   "outputs": [],
   "source": [
    "# for Python\n",
    "\n",
    "import os\n",
    "freemili.to_pickle(os.path.join(\"FilesToMerge\",\"FreeAndMili.pkl\"))"
   ]
  },
  {
   "cell_type": "code",
   "execution_count": null,
   "id": "6c3bd1a6",
   "metadata": {},
   "outputs": [],
   "source": [
    "# for R\n",
    "import os\n",
    "\n",
    "os.environ['R_HOME'] = '/Library/Frameworks/R.framework/Resources'\n",
    "\n",
    "from rpy2.robjects import pandas2ri\n",
    "pandas2ri.activate()\n",
    "\n",
    "from rpy2.robjects.packages import importr\n",
    "\n",
    "base = importr('base')\n",
    "base.saveRDS(freemili,file=os.path.join('FilesToMerge','FreeAndMili.RDS'))"
   ]
  },
  {
   "cell_type": "code",
   "execution_count": null,
   "id": "25bfe863-39aa-437e-9249-dd6c9f3e4e26",
   "metadata": {},
   "outputs": [],
   "source": []
  }
 ],
 "metadata": {
  "kernelspec": {
   "display_name": "Python 3 (ipykernel)",
   "language": "python",
   "name": "python3"
  },
  "language_info": {
   "codemirror_mode": {
    "name": "ipython",
    "version": 3
   },
   "file_extension": ".py",
   "mimetype": "text/x-python",
   "name": "python",
   "nbconvert_exporter": "python",
   "pygments_lexer": "ipython3",
   "version": "3.12.0"
  }
 },
 "nbformat": 4,
 "nbformat_minor": 5
}
